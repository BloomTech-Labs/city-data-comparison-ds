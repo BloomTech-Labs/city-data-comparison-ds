{
 "cells": [
  {
   "cell_type": "markdown",
   "metadata": {},
   "source": [
    "### Citrics Documentation - Data Collection\n",
    "\n",
    "The data used in the project was from a number of different sources. Merging data from these data sources required making a uniform naming convention for each city, the data science team decided to use a format of `city_name ST`, where 'ST' is the postal abbreviation used for each state.\n",
    "\n",
    "The most comprehensive data set that we built off of was the US Census Data (https://www.census.gov/acs/www/data/data-tables-and-tools/data-profiles/2018/)"
   ]
  },
  {
   "cell_type": "markdown",
   "metadata": {},
   "source": [
    "### Census Data Collection Methodology\n",
    "\n"
   ]
  },
  {
   "attachments": {},
   "cell_type": "markdown",
   "metadata": {},
   "source": [
    "The process for collecting the Census data was fairly manual. We went to the Census Website:  https://data.census.gov/cedsci/table?q=&d=ACS%205-Year%20Estimates%20Data%20Profiles&table=DP02&tid=ACSDP5Y2017.DP02&lastDisplayedRow=39&hidePreview=true&g=0100000US.160000\n",
    "\n",
    "1) Select the Geographies option from the navigation bar\n",
    "\n",
    "2) Clear anything in the \"Selected Geographies:\" across the bottom of the page\n",
    "\n",
    "3) From the remaining Geography column, scroll and select \"Place\", a \"Place\" column will appear\n",
    "\n",
    "4) Scroll and select which state you need the data for, that state's name will appear in a new column\n",
    "- Note: for some of the Tables you will be able to select multiple states at a time to speed up this process\n",
    "\n",
    "5) From that column, select the first option \"all places in state_name\"\n",
    "\n",
    "- image: census-select-geographies\n",
    "\n",
    "6) Hit the close button in the bottom right corner\n",
    "\n",
    "7) Select \"Download Table\"\n",
    "\n",
    "8) Select that you want the file as a csv with the date you want\n",
    "\n",
    "9) You'll then have a zip file with the data for that state/time\n",
    "\n",
    "10) Repeat 1-9 until you have all states for that particular table\n",
    "\n",
    "11) Then from the top-left corner of the page, select the \"Tables\" link\n",
    "\n",
    "- image: census-tables-highlighted\n",
    "\n",
    "12) Select another table (in total, you'll need DP02, DP03, DP04, and DP05) \n",
    "\n",
    "13) Select \"Customize Table\" from the top-right corner of the page and repeat steps 1-12 until you've collected the entirety of the data needed"
   ]
  },
  {
   "cell_type": "markdown",
   "metadata": {},
   "source": [
    "### Walk Score Data Collection Methodology"
   ]
  },
  {
   "cell_type": "markdown",
   "metadata": {},
   "source": [
    "Walk Score is a service that offers a uniform scoring methodology to rate cities overall as well as specific addresses on their walkability, how bike-friendly they are, and a score for the public transit available. Using a third party for this because we do not have to make our own methodology for these types of figures.\n",
    "\n",
    "About Walk Score:\n",
    "https://www.walkscore.com/professional/research.php\n",
    "\n",
    "Source of the data tables:\n",
    "https://www.walkscore.com/cities-and-neighborhoods/states/\n",
    "\n",
    "Trademark Guidelines:\n",
    "https://www.walkscore.com/trademark-use.shtml"
   ]
  },
  {
   "cell_type": "code",
   "execution_count": 1,
   "metadata": {},
   "outputs": [],
   "source": [
    "import pandas as pd"
   ]
  },
  {
   "cell_type": "code",
   "execution_count": 33,
   "metadata": {},
   "outputs": [],
   "source": [
    "us_state_abbrev = ['AL','AK','AZ','AR','CA','CO','CT','DE','DC','FL','GA','HI','ID','IL','IN','IA','KS',\n",
    "                   'KY','LA','ME','MD','MA','MI','MN','MS','MO','MT','NE','NV','NH','NJ','NM','NY','NC',\n",
    "                   'ND','OH','OK','OR','PA','RI','SC','SD','TN','TX','UT','VT','VA','WA','WV','WI','WY']"
   ]
  },
  {
   "cell_type": "code",
   "execution_count": 37,
   "metadata": {},
   "outputs": [],
   "source": [
    "# Empty DataFrame to add to in the loop below\n",
    "df = pd.DataFrame()\n",
    "\n",
    "for i in us_state_abbrev:\n",
    "    df_i = pd.read_html('https://www.walkscore.com/' + i)[0]\n",
    "    df_i['State'] = i\n",
    "    df = pd.concat([df, df_i])"
   ]
  },
  {
   "cell_type": "markdown",
   "metadata": {},
   "source": [
    "This is a simple loop that uses the `pd.read_html` function and a list of state abbreviations to scrape the summary scores for all major cities in their publicly-available data tables. "
   ]
  },
  {
   "cell_type": "code",
   "execution_count": 39,
   "metadata": {},
   "outputs": [
    {
     "data": {
      "text/html": [
       "<div>\n",
       "<style scoped>\n",
       "    .dataframe tbody tr th:only-of-type {\n",
       "        vertical-align: middle;\n",
       "    }\n",
       "\n",
       "    .dataframe tbody tr th {\n",
       "        vertical-align: top;\n",
       "    }\n",
       "\n",
       "    .dataframe thead th {\n",
       "        text-align: right;\n",
       "    }\n",
       "</style>\n",
       "<table border=\"1\" class=\"dataframe\">\n",
       "  <thead>\n",
       "    <tr style=\"text-align: right;\">\n",
       "      <th></th>\n",
       "      <th>City</th>\n",
       "      <th>Zip Code</th>\n",
       "      <th>Walk Score</th>\n",
       "      <th>Transit Score</th>\n",
       "      <th>Bike Score</th>\n",
       "      <th>Population</th>\n",
       "      <th>State</th>\n",
       "    </tr>\n",
       "  </thead>\n",
       "  <tbody>\n",
       "    <tr>\n",
       "      <th>0</th>\n",
       "      <td>Birmingham (the largest city in Alabama)</td>\n",
       "      <td>35211.0</td>\n",
       "      <td>35</td>\n",
       "      <td>25</td>\n",
       "      <td>31</td>\n",
       "      <td>212237</td>\n",
       "      <td>AL</td>\n",
       "    </tr>\n",
       "    <tr>\n",
       "      <th>1</th>\n",
       "      <td>Montgomery</td>\n",
       "      <td>36109.0</td>\n",
       "      <td>27</td>\n",
       "      <td>16</td>\n",
       "      <td>38</td>\n",
       "      <td>205764</td>\n",
       "      <td>AL</td>\n",
       "    </tr>\n",
       "    <tr>\n",
       "      <th>2</th>\n",
       "      <td>Mobile</td>\n",
       "      <td>36605.0</td>\n",
       "      <td>33</td>\n",
       "      <td>--</td>\n",
       "      <td>39</td>\n",
       "      <td>195111</td>\n",
       "      <td>AL</td>\n",
       "    </tr>\n",
       "    <tr>\n",
       "      <th>3</th>\n",
       "      <td>Huntsville</td>\n",
       "      <td>35810.0</td>\n",
       "      <td>23</td>\n",
       "      <td>13</td>\n",
       "      <td>40</td>\n",
       "      <td>180105</td>\n",
       "      <td>AL</td>\n",
       "    </tr>\n",
       "    <tr>\n",
       "      <th>4</th>\n",
       "      <td>Tuscaloosa</td>\n",
       "      <td>NaN</td>\n",
       "      <td>33</td>\n",
       "      <td>--</td>\n",
       "      <td>37</td>\n",
       "      <td>90468</td>\n",
       "      <td>AL</td>\n",
       "    </tr>\n",
       "  </tbody>\n",
       "</table>\n",
       "</div>"
      ],
      "text/plain": [
       "                                       City  Zip Code  Walk Score  \\\n",
       "0  Birmingham (the largest city in Alabama)   35211.0          35   \n",
       "1                                Montgomery   36109.0          27   \n",
       "2                                    Mobile   36605.0          33   \n",
       "3                                Huntsville   35810.0          23   \n",
       "4                                Tuscaloosa       NaN          33   \n",
       "\n",
       "  Transit Score  Bike Score  Population State  \n",
       "0            25          31      212237    AL  \n",
       "1            16          38      205764    AL  \n",
       "2            --          39      195111    AL  \n",
       "3            13          40      180105    AL  \n",
       "4            --          37       90468    AL  "
      ]
     },
     "execution_count": 39,
     "metadata": {},
     "output_type": "execute_result"
    }
   ],
   "source": [
    "df.head()"
   ]
  },
  {
   "cell_type": "code",
   "execution_count": null,
   "metadata": {},
   "outputs": [],
   "source": []
  }
 ],
 "metadata": {
  "kernelspec": {
   "display_name": "Python 3",
   "language": "python",
   "name": "python3"
  },
  "language_info": {
   "codemirror_mode": {
    "name": "ipython",
    "version": 3
   },
   "file_extension": ".py",
   "mimetype": "text/x-python",
   "name": "python",
   "nbconvert_exporter": "python",
   "pygments_lexer": "ipython3",
   "version": "3.7.4"
  }
 },
 "nbformat": 4,
 "nbformat_minor": 2
}

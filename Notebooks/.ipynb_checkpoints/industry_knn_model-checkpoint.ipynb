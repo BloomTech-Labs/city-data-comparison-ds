{
 "cells": [
  {
   "cell_type": "code",
   "execution_count": 1,
   "metadata": {},
   "outputs": [
    {
     "name": "stderr",
     "output_type": "stream",
     "text": [
      "C:\\Users\\Gaming PC\\Anaconda3\\lib\\site-packages\\IPython\\core\\interactiveshell.py:3058: DtypeWarning: Columns (6,10,14,18,22,26,30,34,38,42,46,50,54,58,60,61,62,64,65,66,68,70,74,78,82,86,90,94,98,102,106,110,114,118,122,126,130,134,138,142,146,152,153,154,156,157,158,160,161,162,164,165,166,168,169,170,174,198,210,214,218,222,226,230,232,234,238,242,246,250,254,258,262,263,264,266,267,268,270,274,278,282,286,290,294,298,302,306,310,314,318,322,326,330,334,338,342,344,346,350,354,358,362,366,370,374,378,382,386,390,402,406,410,414,418,422,426,430,434,438,440,442,446,450,454,458,462,466,470,474,478,482,486,488,490,494,498,502,506,510,514,518,522,526,530,534,538,542,546,550,554,558,562,566,570,574,578,582,586,590,594,598,602,606,610,616,620,624,628,632,636,640,644,645,646,648,652,656,660,664,668,672,676,680,684,688,692,696,700,704,708,710,711,712,716,720,724,728,732,736,740,744,748,752,756,760,764,768,772,776,780,784,788,792,796,800,804,808,812,816,820,824,828,832,836,840,844,848,852,856,858,859,860,862,863,864,868,869,870,871,872,876,878,879,880,884,886,887,888,892,900,908,912,916,920,924,928,932,936,940,944,948,952,953,955,956,957,958,959,960,961,962,963,964,968,969,971,972,973,974,975,976,978,979,980,982,983,984,986,987,988,992,996,1000,1004,1008,1012,1016,1020,1024,1028,1032,1036,1040,1044,1048,1052,1056,1060,1064,1068,1072,1076,1080,1084,1085,1086,1088,1089,1090,1092,1093,1094,1097,1098,1100,1101,1102,1104,1105,1106,1109,1110,1112,1113,1114,1117,1118,1121,1122,1124,1125,1126,1128,1129,1130,1132,1133,1134,1136,1137,1138,1140,1141,1142,1144,1145,1146,1148,1149,1150,1152,1153,1154,1156,1157,1158,1160,1166,1170,1174,1176,1177,1178,1180,1181,1182,1186,1190,1194,1198,1202,1206,1210,1214,1218,1222,1226,1230,1234,1238,1242,1246,1250,1254,1258,1262,1266,1270,1274,1278,1282,1286,1290,1294,1298,1302,1306,1307,1308,1309,1310,1314,1318,1322,1326,1330,1334,1338,1342,1346,1350,1352,1353,1354,1356,1357,1358,1362,1366,1370,1374,1378,1382,1386,1390,1394,1398,1402,1406,1410,1414,1418,1422,1426,1430,1434,1438,1442,1446,1450,1454,1458,1462,1466,1470,1474,1478,1482,1486,1490,1494,1498,1502,1506,1510,1514,1515,1516,1517,1518,1522,1526,1530,1534,1538,1542,1546,1550,1554,1558,1562,1564,1565,1566,1570,1574,1578,1582,1586,1590,1594,1596,1597,1598,1602,1606,1610,1614,1618,1622,1625,1626,1630,1634,1638,1642,1646,1650,1654,1658,1661,1662,1666,1670,1674,1678,1682,1686,1690,1694,1697,1698,1701,1702,1706,1710,1714,1718,1722,1726,1730,1733,1734,1738,1740,1744,1748,1750,1751,1752,1754,1756,1760,1764,1768,1772,1774,1776,1780,1784,1788,1792,1796,1800,1804,1806,1807,1808,1810,1812,1816,1818,1820,1824,1828,1830,1832,1834,1836,1838,1840,1842,1844,1846,1847,1848,1850,1852,1854,1856,1858,1860,1862,1863,1864,1866,1868,1872,1876,1880,1884,1888,1892,1896,1900,1904,1908,1912,1916,1920,1924,1928,1932,1936,1940,1944,1948,1952,1956,1960,1964,1968,1972,1976,1980,1984,1986,1988,1992,1996,2000,2004,2008,2012,2014,2016,2018,2020,2024,2028,2032,2036,2038,2040,2044,2048,2052,2056,2060,2064,2068,2072,2076,2079,2080,2084,2088,2092) have mixed types. Specify dtype option on import or set low_memory=False.\n",
      "  interactivity=interactivity, compiler=compiler, result=result)\n"
     ]
    }
   ],
   "source": [
    "# library imports\n",
    "import pandas as pd\n",
    "from sklearn.neighbors import KNeighborsClassifier\n",
    "\n",
    "# data imports\n",
    "df_census = pd.read_csv('datasets/no_missing_cens.csv');"
   ]
  },
  {
   "cell_type": "code",
   "execution_count": 6,
   "metadata": {},
   "outputs": [],
   "source": [
    "# FIND DATA FOR INDUSTRY DATA TO FIT MODEL\n",
    "\n",
    "# industry - 'Industry'\n",
    "industry = ['DP03_0027PE','DP03_0034PE','DP03_0035PE','DP03_0036PE',\n",
    "            'DP03_0037PE','DP03_0038PE','DP03_0040PE','DP03_0041PE',\n",
    "            'DP03_0042PE','DP03_0043PE','DP03_0044PE','DP03_0045PE']\n",
    "\n",
    "industry_names = ['Agriculture forestry fishing and hunting and mining','Construction',\n",
    "                   'Manufacturing','Wholesale trade','Retail trade','ransportation and warehousing and utilities',\n",
    "                   'Information','Finance and insurance and real estate and rental and leasing',\n",
    "                   'Professional scientific and management and administrative and waste management services',\n",
    "                   'Educational services and health care and social assistance','Arts entertainment and recreation and accommodation and food services',\n",
    "                   'Other services except public administration','Public administration']\n",
    "\n",
    "# health insurance - 'Health Insurance'\n",
    "health_insurance = 'DP03_0096PE'\n",
    "\n",
    "# salary - 'Class of Worker'\n",
    "wages_names = ['Private wage and salary workers','Government workers','Self-employed in own not incorporated business workers','Unpaid family workers']\n",
    "wages = ['DP03_0047PE','DP03_0048PE','DP03_0049PE','DP03_0050PE']\n",
    "\n",
    "# commute - 'Commuting to Work'\n",
    "commute_names = ['Drives Alone', 'Carpools', 'Public Transport', 'Walks', 'Works at home', 'Other transport']\n",
    "commute = ['DP03_0019PE','DP03_0020PE','DP03_0021PE','DP03_0022PE','DP03_0024PE', 'DP03_0023PE']\n",
    "\n",
    "# travel time - 'Mean Travel Time'\n",
    "mean_travel_time = 'DP03_0025E'\n",
    "\n",
    "\n",
    "# retirement  - 'Retirement Percent'\n",
    "retirement_names = ['With Social Security','With retirement income','With Supplemental income']\n",
    "retirement = ['DP03_0066PE','DP03_0068PE','DP03_0070PE']\n",
    "\n",
    "# unemployment - 'Unemployment Rate'\n",
    "unemployment = 'DP03_0009PE'\n",
    "\n",
    "# create df_industry dataframe\n",
    "df_industry = pd.DataFrame()\n",
    "\n",
    "# Add data\n",
    "df_industry['full_name'] = df_census['full_name']\n",
    "df_industry['population'] = df_census['pop2018']\n",
    "\n",
    "for x in range(len(industry)):\n",
    "    df_industry[industry_names[x]] = df_census[industry[x]]\n",
    "    \n",
    "for x in range(len(wages)):\n",
    "    df_industry[wages_names[x]] = df_census[wages[x]]\n",
    "\n",
    "for x in range(len(commute)):\n",
    "    df_industry[commute_names[x]] = df_census[commute[x]]\n",
    "    \n",
    "for x in range(len(retirement)):\n",
    "    df_industry[retirement_names[x]] = df_census[retirement[x]]\n",
    "    \n",
    "df_industry['Health Insurance'] = df_census[health_insurance]\n",
    "df_industry['Mean Travel Time'] = df_census[mean_travel_time]\n",
    "df_industry['Unemployment Rate'] = df_census[unemployment]"
   ]
  },
  {
   "cell_type": "code",
   "execution_count": 7,
   "metadata": {},
   "outputs": [],
   "source": [
    "def get_cities(df):\n",
    "    \n",
    "    X = df.drop(columns = ['full_name'])\n",
    "    y = df['full_name']\n",
    "    classifier = KNeighborsClassifier(n_neighbors=5, algorithm = 'kd_tree')\n",
    "    model = classifier.fit(X, y)\n",
    "    \n",
    "    return model"
   ]
  },
  {
   "cell_type": "code",
   "execution_count": 9,
   "metadata": {},
   "outputs": [
    {
     "name": "stdout",
     "output_type": "stream",
     "text": [
      "10          Newville AL\n",
      "9890     Gilman City MO\n",
      "14276           Prue OK\n",
      "10038     Otterville MO\n",
      "2892      Plainville GA\n",
      "Name: full_name, dtype: object\n"
     ]
    }
   ],
   "source": [
    "# create knn model\n",
    "classifier = get_cities(df_industry)\n",
    "\n",
    "# get test city\n",
    "test_city = 'Newville AL'\n",
    "test_data = df_industry[df_industry['full_name'] == test_city]\n",
    "test_data = test_data.drop(columns = ['full_name'])\n",
    "\n",
    "# test knn model\n",
    "results = classifier.kneighbors(test_data,return_distance = False)\n",
    "for res in results:\n",
    "    print(df_industry['full_name'].loc[res])"
   ]
  },
  {
   "cell_type": "code",
   "execution_count": null,
   "metadata": {},
   "outputs": [],
   "source": []
  }
 ],
 "metadata": {
  "kernelspec": {
   "display_name": "Python 3",
   "language": "python",
   "name": "python3"
  },
  "language_info": {
   "codemirror_mode": {
    "name": "ipython",
    "version": 3
   },
   "file_extension": ".py",
   "mimetype": "text/x-python",
   "name": "python",
   "nbconvert_exporter": "python",
   "pygments_lexer": "ipython3",
   "version": "3.7.4"
  }
 },
 "nbformat": 4,
 "nbformat_minor": 4
}

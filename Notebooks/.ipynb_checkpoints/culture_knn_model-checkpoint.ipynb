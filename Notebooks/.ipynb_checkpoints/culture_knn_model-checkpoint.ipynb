{
 "cells": [
  {
   "cell_type": "code",
   "execution_count": 6,
   "metadata": {},
   "outputs": [],
   "source": [
    "# Import Sklearn Libraries\n",
    "from sklearn.neighbors import KNeighborsClassifier\n",
    "from sklearn.model_selection import train_test_split\n",
    "\n",
    "# Import other Libraries\n",
    "import pandas as pd\n",
    "\n",
    "# Import Data\n",
    "df_census = pd.read_csv('datasets/no_missing_cens.csv')"
   ]
  },
  {
   "cell_type": "code",
   "execution_count": 18,
   "metadata": {},
   "outputs": [],
   "source": [
    "# Create DataFrame with Culture Metrics\n",
    "\n",
    "df_culture = pd.DataFrame()\n",
    "df_culture['full_name'] = df_census['full_name']\n",
    "\n",
    "# Add Education Metrics\n",
    "df_culture['Less than 9th grade'] = df_census['DP02_0059PE']\n",
    "df_culture['9th to 12th grade no diploma'] = df_census['DP02_0060PE']\n",
    "df_culture['High school'] = df_census['DP02_0061PE']\n",
    "df_culture['Some college no degree'] = df_census['DP02_0062PE']\n",
    "df_culture['Associate degree'] = df_census['DP02_0063PE']\n",
    "df_culture['Bachelor degree'] = df_census['DP02_0064PE']\n",
    "df_culture['Graduate degree'] = df_census['DP02_0065PE']\n",
    "\n",
    "# Add Language Metrics\n",
    "df_culture['English Only'] = df_census['DP02_0111PE']\n",
    "df_culture['Language other than English'] = df_census['DP02_0112PE']\n",
    "df_culture['Cannot Speak English'] = df_census['DP02_0113PE']\n",
    "df_culture['Two or more Languages'] = df_census['DP02_0113PE'] - df_census['DP02_0112PE']\n",
    "\n",
    "# Add Ethnicity Metrics\n",
    "df_culture['White'] = df_census['DP05_0077PE']\n",
    "df_culture['Hispanic or Latino'] = df_census['DP05_0071PE']\n",
    "df_culture['African American'] = df_census['DP05_0078PE']\n",
    "df_culture['American Indian'] = df_census['DP05_0079PE']\n",
    "df_culture['Asian'] = df_census['DP05_0080PE']\n",
    "df_culture['Pacific Islander'] = df_census['DP05_0081PE']\n",
    "df_culture['other race'] = df_census['DP05_0082PE']\n",
    "df_culture['Two or more races'] = df_census['DP05_0083PE']\n",
    "\n",
    "# Add Birth Metrics\n",
    "df_culture['Birth Rate'] = df_census['DP02_0039E']"
   ]
  },
  {
   "cell_type": "code",
   "execution_count": 48,
   "metadata": {},
   "outputs": [],
   "source": [
    "def get_cities(df):\n",
    "    \n",
    "    X = df.drop(columns = ['full_name'])\n",
    "    y = df['full_name']\n",
    "    classifier = KNeighborsClassifier(n_neighbors=5, algorithm = 'kd_tree')\n",
    "    model = classifier.fit(X, y)\n",
    "    \n",
    "    return model"
   ]
  },
  {
   "cell_type": "code",
   "execution_count": 50,
   "metadata": {},
   "outputs": [
    {
     "name": "stdout",
     "output_type": "stream",
     "text": [
      "684        Gilbert AZ\n",
      "17603      Corinth TX\n",
      "1502      Martinez CA\n",
      "3456        Oswego IL\n",
      "1421     Roseville CA\n",
      "Name: full_name, dtype: object\n"
     ]
    }
   ],
   "source": [
    "# create knn model\n",
    "classifier = get_cities(df_culture)\n",
    "\n",
    "# get test city\n",
    "test_city = 'Gilbert AZ'\n",
    "test_data = df_culture[df_culture['full_name'] == test_city]\n",
    "test_data = test_data.drop(columns = ['full_name'])\n",
    "\n",
    "# test knn model\n",
    "results = classifier.kneighbors(test_data,return_distance = False)\n",
    "for res in results:\n",
    "    print(df_culture['full_name'].loc[res])"
   ]
  }
 ],
 "metadata": {
  "kernelspec": {
   "display_name": "Python 3",
   "language": "python",
   "name": "python3"
  },
  "language_info": {
   "codemirror_mode": {
    "name": "ipython",
    "version": 3
   },
   "file_extension": ".py",
   "mimetype": "text/x-python",
   "name": "python",
   "nbconvert_exporter": "python",
   "pygments_lexer": "ipython3",
   "version": "3.7.4"
  }
 },
 "nbformat": 4,
 "nbformat_minor": 4
}

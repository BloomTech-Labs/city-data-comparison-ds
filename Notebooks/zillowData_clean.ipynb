{
 "cells": [
  {
   "cell_type": "markdown",
   "metadata": {},
   "source": [
    "# Zillow Dataset Cleaning (housing data)"
   ]
  },
  {
   "cell_type": "code",
   "execution_count": 44,
   "metadata": {},
   "outputs": [
    {
     "name": "stdout",
     "output_type": "stream",
     "text": [
      "Shape of house_bd1_df: (11106, 149)\n",
      "Shape of house_bd2_df: (19552, 149)\n",
      "Shape of house_bd3_df: (21749, 149)\n",
      "Shape of house_bd4_df: (21863, 149)\n",
      "Shape of house_bd5_df: (17569, 149)\n",
      "Shape of rental_bd1_df: (803, 123)\n",
      "Shape of rental_bd2_df: (1263, 123)\n",
      "Shape of rental_bd3_df: (989, 123)\n",
      "Shape of rental_bd4_df: (317, 123)\n",
      "Shape of rental_bd5_df: (53, 112)\n"
     ]
    }
   ],
   "source": [
    "import pandas as pd\n",
    "\n",
    "\n",
    "# Import datasets\n",
    "\n",
    "# Houses Data\n",
    "house_bd1_df = pd.read_csv('datasets/zillow/Housing/City_Zhvi_1bedroom.csv', encoding = 'iso-8859-1')\n",
    "house_bd2_df = pd.read_csv('datasets/zillow/Housing/City_Zhvi_2bedroom.csv', encoding = 'iso-8859-1')\n",
    "house_bd3_df = pd.read_csv('datasets/zillow/Housing/City_Zhvi_3bedroom.csv', encoding = 'iso-8859-1')\n",
    "house_bd4_df = pd.read_csv('datasets/zillow/Housing/City_Zhvi_4bedroom.csv', encoding = 'iso-8859-1')\n",
    "house_bd5_df = pd.read_csv('datasets/zillow/Housing/City_Zhvi_5bedroomOrMore.csv', encoding = 'iso-8859-1')\n",
    "\n",
    "# Rentals Data\n",
    "rental_bd1_df = pd.read_csv('datasets/zillow/Rentals/City_MedianRentalPrice_1Bedroom.csv', encoding = 'iso-8859-1')\n",
    "rental_bd2_df = pd.read_csv('datasets/zillow/Rentals/City_MedianRentalPrice_2Bedroom.csv', encoding = 'iso-8859-1')\n",
    "rental_bd3_df = pd.read_csv('datasets/zillow/Rentals/City_MedianRentalPrice_3Bedroom.csv', encoding = 'iso-8859-1')\n",
    "rental_bd4_df = pd.read_csv('datasets/zillow/Rentals/City_MedianRentalPrice_4Bedroom.csv', encoding = 'iso-8859-1')\n",
    "rental_bd5_df = pd.read_csv('datasets/zillow/Rentals/City_MedianRentalPrice_5BedroomOrMore.csv', encoding = 'iso-8859-1')\n",
    "\n",
    "# Census Data\n",
    "census_df = pd.read_csv('datasets/all_census_formated.csv')\n",
    "\n",
    "# Shapes of housing data\n",
    "print('Shape of house_bd1_df:', house_bd1_df.shape)\n",
    "print('Shape of house_bd2_df:', house_bd2_df.shape)\n",
    "print('Shape of house_bd3_df:', house_bd3_df.shape)\n",
    "print('Shape of house_bd4_df:', house_bd4_df.shape)\n",
    "print('Shape of house_bd5_df:', house_bd5_df.shape)\n",
    "\n",
    "# Shapes of Rentals data\n",
    "print('Shape of rental_bd1_df:', rental_bd1_df.shape)\n",
    "print('Shape of rental_bd2_df:', rental_bd2_df.shape)\n",
    "print('Shape of rental_bd3_df:', rental_bd3_df.shape)\n",
    "print('Shape of rental_bd4_df:', rental_bd4_df.shape)\n",
    "print('Shape of rental_bd5_df:', rental_bd5_df.shape)"
   ]
  },
  {
   "cell_type": "markdown",
   "metadata": {},
   "source": [
    "## Format city and state names"
   ]
  },
  {
   "cell_type": "code",
   "execution_count": 45,
   "metadata": {},
   "outputs": [],
   "source": [
    "def format_names(X):\n",
    "    \n",
    "    full_name = []\n",
    "    for x in range(0,len(X.RegionName)):\n",
    "        full_name.append(X.RegionName[x] + ' ' + X.State[x])\n",
    "    \n",
    "    #insert full_name column\n",
    "    X['full_name'] = full_name\n",
    "    \n",
    "    return X    "
   ]
  },
  {
   "cell_type": "code",
   "execution_count": 46,
   "metadata": {},
   "outputs": [],
   "source": [
    "# Apply format_names function to all dataframes\n",
    "\n",
    "house_bd1_df = format_names(house_bd1_df)\n",
    "house_bd2_df = format_names(house_bd2_df)\n",
    "house_bd3_df = format_names(house_bd3_df)\n",
    "house_bd4_df = format_names(house_bd4_df)\n",
    "house_bd5_df = format_names(house_bd5_df)\n",
    "\n",
    "rental_bd1_df = format_names(rental_bd1_df)\n",
    "rental_bd2_df = format_names(rental_bd2_df)\n",
    "rental_bd3_df = format_names(rental_bd3_df)\n",
    "rental_bd4_df = format_names(rental_bd4_df)\n",
    "rental_bd5_df = format_names(rental_bd5_df)"
   ]
  },
  {
   "cell_type": "markdown",
   "metadata": {},
   "source": [
    "## Drop cities not in largest dataset"
   ]
  },
  {
   "cell_type": "code",
   "execution_count": 50,
   "metadata": {},
   "outputs": [],
   "source": [
    "def drop_cities(df):\n",
    "    \"\"\"\n",
    "    This function drops cities not included in the largest dataset, \"house_bd4_df\"\n",
    "    \"\"\"\n",
    "    \"\"\n",
    "    cities = []\n",
    "    for city in df['full_name']:\n",
    "        if city not in list(house_bd4_df['full_name']):\n",
    "            cities.append(city)\n",
    "            \n",
    "    # drop cities\n",
    "    for city in cities:\n",
    "        df = df[df['full_name'] != city]\n",
    "    \n",
    "    return df"
   ]
  },
  {
   "cell_type": "code",
   "execution_count": null,
   "metadata": {},
   "outputs": [
    {
     "name": "stdout",
     "output_type": "stream",
     "text": [
      "Finished Processing house_bd1_df...\n",
      "Finished Processing house_bd2_df...\n",
      "Finished Processing house_bd3_df...\n",
      "Finished Processing house_bd4_df...\n"
     ]
    }
   ],
   "source": [
    "# Apply drop_cities function to all dataframes\n",
    "\n",
    "house_bd1_df = drop_cities(house_bd1_df)\n",
    "print(\"Finished Processing house_bd1_df...\")\n",
    "house_bd2_df = drop_cities(house_bd2_df)\n",
    "print(\"Finished Processing house_bd2_df...\")\n",
    "house_bd3_df = drop_cities(house_bd3_df)\n",
    "print(\"Finished Processing house_bd3_df...\")\n",
    "house_bd4_df = drop_cities(house_bd4_df)\n",
    "print(\"Finished Processing house_bd4_df...\")\n",
    "house_bd5_df = drop_cities(house_bd5_df)\n",
    "print(\"Finished Processing house_bd5_df...\")\n",
    "\n",
    "rental_bd1_df = drop_cities(rental_bd1_df)\n",
    "print(\"Finished Processing rental_bd1_df...\")\n",
    "rental_bd2_df = drop_cities(rental_bd2_df)\n",
    "print(\"Finished Processing rental_bd2_df...\")\n",
    "rental_bd3_df = drop_cities(rental_bd3_df)\n",
    "print(\"Finished Processing rental_bd3_df...\")\n",
    "rental_bd4_df = drop_cities(rental_bd4_df)\n",
    "print(\"Finished Processing rental_bd4_df...\")\n",
    "rental_bd5_df = drop_cities(rental_bd5_df)\n",
    "print(\"Finished Processing rental_bd5_df...\")"
   ]
  },
  {
   "cell_type": "code",
   "execution_count": null,
   "metadata": {},
   "outputs": [],
   "source": [
    "# Shapes of housing data\n",
    "print('Shape of house_bd1_df:', house_bd1_df.shape)\n",
    "print('Shape of house_bd2_df:', house_bd2_df.shape)\n",
    "print('Shape of house_bd3_df:', house_bd3_df.shape)\n",
    "print('Shape of house_bd4_df:', house_bd4_df.shape)\n",
    "print('Shape of house_bd5_df:', house_bd5_df.shape)\n",
    "\n",
    "# Shapes of Rentals data\n",
    "print('Shape of rental_bd1_df:', rental_bd1_df.shape)\n",
    "print('Shape of rental_bd2_df:', rental_bd2_df.shape)\n",
    "print('Shape of rental_bd3_df:', rental_bd3_df.shape)\n",
    "print('Shape of rental_bd4_df:', rental_bd4_df.shape)\n",
    "print('Shape of rental_bd5_df:', rental_bd5_df.shape)"
   ]
  }
 ],
 "metadata": {
  "kernelspec": {
   "display_name": "Python 3",
   "language": "python",
   "name": "python3"
  },
  "language_info": {
   "codemirror_mode": {
    "name": "ipython",
    "version": 3
   },
   "file_extension": ".py",
   "mimetype": "text/x-python",
   "name": "python",
   "nbconvert_exporter": "python",
   "pygments_lexer": "ipython3",
   "version": "3.7.4"
  }
 },
 "nbformat": 4,
 "nbformat_minor": 4
}

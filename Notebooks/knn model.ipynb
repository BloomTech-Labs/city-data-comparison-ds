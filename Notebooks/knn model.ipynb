{
 "cells": [
  {
   "cell_type": "code",
   "execution_count": 1,
   "metadata": {},
   "outputs": [],
   "source": [
    "# Import Sklearn Libraries\n",
    "from sklearn.pipeline import Pipeline\n",
    "from sklearn.neighbors import KNeighborsClassifier\n",
    "from sklearn.model_selection import train_test_split\n",
    "from sklearn.preprocessing import StandardScaler\n",
    "\n",
    "# Import other Libraries\n",
    "import pandas as pd\n",
    "import numpy as np\n",
    "\n",
    "# Import Data\n",
    "df = pd.read_csv('datasets/citydata_lon_lat_pop.csv') "
   ]
  },
  {
   "cell_type": "code",
   "execution_count": 2,
   "metadata": {},
   "outputs": [
    {
     "data": {
      "text/html": [
       "<div>\n",
       "<style scoped>\n",
       "    .dataframe tbody tr th:only-of-type {\n",
       "        vertical-align: middle;\n",
       "    }\n",
       "\n",
       "    .dataframe tbody tr th {\n",
       "        vertical-align: top;\n",
       "    }\n",
       "\n",
       "    .dataframe thead th {\n",
       "        text-align: right;\n",
       "    }\n",
       "</style>\n",
       "<table border=\"1\" class=\"dataframe\">\n",
       "  <thead>\n",
       "    <tr style=\"text-align: right;\">\n",
       "      <th></th>\n",
       "      <th>city</th>\n",
       "      <th>lon</th>\n",
       "      <th>lat</th>\n",
       "      <th>pop</th>\n",
       "    </tr>\n",
       "  </thead>\n",
       "  <tbody>\n",
       "    <tr>\n",
       "      <td>0</td>\n",
       "      <td>Russellville AL</td>\n",
       "      <td>-87.7282</td>\n",
       "      <td>34.5056</td>\n",
       "      <td>9711</td>\n",
       "    </tr>\n",
       "    <tr>\n",
       "      <td>1</td>\n",
       "      <td>Vina AL</td>\n",
       "      <td>-88.0602</td>\n",
       "      <td>34.3757</td>\n",
       "      <td>363</td>\n",
       "    </tr>\n",
       "    <tr>\n",
       "      <td>2</td>\n",
       "      <td>Providence AL</td>\n",
       "      <td>-87.7761</td>\n",
       "      <td>32.3424</td>\n",
       "      <td>179</td>\n",
       "    </tr>\n",
       "    <tr>\n",
       "      <td>3</td>\n",
       "      <td>Grant AL</td>\n",
       "      <td>-86.2492</td>\n",
       "      <td>34.5189</td>\n",
       "      <td>933</td>\n",
       "    </tr>\n",
       "    <tr>\n",
       "      <td>4</td>\n",
       "      <td>Daviston AL</td>\n",
       "      <td>-85.6371</td>\n",
       "      <td>33.0557</td>\n",
       "      <td>186</td>\n",
       "    </tr>\n",
       "  </tbody>\n",
       "</table>\n",
       "</div>"
      ],
      "text/plain": [
       "              city      lon      lat   pop\n",
       "0  Russellville AL -87.7282  34.5056  9711\n",
       "1          Vina AL -88.0602  34.3757   363\n",
       "2    Providence AL -87.7761  32.3424   179\n",
       "3         Grant AL -86.2492  34.5189   933\n",
       "4      Daviston AL -85.6371  33.0557   186"
      ]
     },
     "execution_count": 2,
     "metadata": {},
     "output_type": "execute_result"
    }
   ],
   "source": [
    "df.head()"
   ]
  },
  {
   "cell_type": "code",
   "execution_count": 35,
   "metadata": {},
   "outputs": [
    {
     "name": "stdout",
     "output_type": "stream",
     "text": [
      "[11787  3185 10851 21594  7482]\n",
      "                   city       lon      lat    pop\n",
      "11787      Larchmont NY  -73.7529  40.9258   6092\n",
      "3185         Waverly IL  -89.9528  39.5925   1286\n",
      "10851         Sparks NV -119.7157  39.5729  98524\n",
      "21594   Winter Beach FL  -80.4254  27.7120   2340\n",
      "7482   Burkittsville MD  -77.6275  39.3923    140\n"
     ]
    }
   ],
   "source": [
    "# Split data\n",
    "X = df.drop(columns = ['city','lon','lat']) # May need to also drop index values\n",
    "y = df['city']\n",
    "X_train, X_test, y_train, y_test = train_test_split(X, y, test_size=0.20)\n",
    "\n",
    "# Fit and train model\n",
    "classifier = KNeighborsClassifier(n_neighbors=5, algorithm = 'kd_tree')\n",
    "classifier.fit(X_train, y_train)\n",
    "\n",
    "# Test a city\n",
    "gilbert = df[df['city'] == 'Gilbert AZ'].drop(columns = ['city','lon','lat'])\n",
    "\n",
    "# Look at predictions\n",
    "pred = classifier.kneighbors(gilbert)\n",
    "predictions = pred[1]\n",
    "for num in pred[1]:\n",
    "    print(num)\n",
    "    print(df.loc[num])"
   ]
  },
  {
   "cell_type": "code",
   "execution_count": 4,
   "metadata": {},
   "outputs": [
    {
     "name": "stdout",
     "output_type": "stream",
     "text": [
      "================== Gilbert ===================\n",
      "          lon      lat     pop\n",
      "684 -111.7463  33.3103  237484\n",
      "================== Fremont ===================\n",
      "           lon      lat     pop\n",
      "1623 -121.9852  37.5265  233083\n"
     ]
    }
   ],
   "source": [
    "# Gilbert's features\n",
    "print('================== Gilbert ===================')\n",
    "print(df[df['city'] == 'Gilbert AZ'].drop(columns = ['city']))\n",
    "\n",
    "# Fremont's features\n",
    "print('================== Fremont ===================')\n",
    "print(df[df['city'] == 'Fremont CA'].drop(columns = ['city']))"
   ]
  }
 ],
 "metadata": {
  "kernelspec": {
   "display_name": "Python 3",
   "language": "python",
   "name": "python3"
  },
  "language_info": {
   "codemirror_mode": {
    "name": "ipython",
    "version": 3
   },
   "file_extension": ".py",
   "mimetype": "text/x-python",
   "name": "python",
   "nbconvert_exporter": "python",
   "pygments_lexer": "ipython3",
   "version": "3.7.4"
  }
 },
 "nbformat": 4,
 "nbformat_minor": 4
}

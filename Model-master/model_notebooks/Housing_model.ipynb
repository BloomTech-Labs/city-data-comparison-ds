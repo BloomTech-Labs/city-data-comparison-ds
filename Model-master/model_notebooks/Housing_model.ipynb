{
 "cells": [
  {
   "cell_type": "code",
   "execution_count": 1,
   "metadata": {},
   "outputs": [],
   "source": [
    "import pandas as pd\n",
    "\n",
    "df = pd.read_csv('data/models/housingmodeldata.csv')"
   ]
  },
  {
   "cell_type": "code",
   "execution_count": 5,
   "metadata": {},
   "outputs": [],
   "source": [
    "import requests\n",
    "def get_housing(id):\n",
    "    get = requests.get(f'https://api.citrics.io/jkekal6d6e5si3i2ld66d4dl/citydata/{id}').json()\n",
    "    population = get['Total Population']\n",
    "    msmoc = get['Median Selected Monthly Owner Costs with Mortgage']\n",
    "    rent = get['Median Rent']\n",
    "    room1 = get['Occupants per room']['1 or less']\n",
    "    room2 = get['Occupants per room']['1 to one and a half ']\n",
    "    room3 = get['Occupants per room']['one and a half or more']\n",
    "    beds1 = get['Housing by bedrooms']['No bedrooms']\n",
    "    beds2 = get['Housing by bedrooms']['1 bedroom']\n",
    "    beds3 = get['Housing by bedrooms']['2 bedrooms']\n",
    "    beds4 = get['Housing by bedrooms']['3 bedrooms']\n",
    "    beds5 = get['Housing by bedrooms']['4 bedrooms']\n",
    "    beds6 = get['Housing by bedrooms']['5 bedrooms or more']\n",
    "    homevacancy = get['Vacancy Rate']['Homeowner vacancy rate']\n",
    "    rentvacancy = get['Vacancy Rate']['Rental vacancy rate']\n",
    "    rent1 = get['Rent']['Less than USD 500']\n",
    "    rent2 = get['Rent']['USD 500 - USD 999']\n",
    "    rent3 = get['Rent']['USD 1,000 - USD 1,499']\n",
    "    rent4 = get['Rent']['USD 1,500 - USD 1,999']\n",
    "    rent5 = get['Rent']['USD 2,000 - USD 2,499']\n",
    "    rent6 = get['Rent']['USD 2,500 - USD 2,999']\n",
    "    rent7 = get['Rent']['USD 3,000 or more']\n",
    "    avg = get['Historical Property Value Data']['Average Home Value']['2019-11']\n",
    "    \n",
    "    res = [population, msmoc, rent, room1, room2, room3, beds1, beds2, beds3, beds4, beds5,beds6, homevacancy, rentvacancy, rent1,rent2,rent3,rent4,rent5,rent6,rent7, avg]\n",
    "    return(res)"
   ]
  },
  {
   "cell_type": "code",
   "execution_count": 6,
   "metadata": {},
   "outputs": [
    {
     "data": {
      "text/plain": [
       "(28925, 22)"
      ]
     },
     "execution_count": 6,
     "metadata": {},
     "output_type": "execute_result"
    }
   ],
   "source": [
    "df.shape"
   ]
  },
  {
   "cell_type": "code",
   "execution_count": 7,
   "metadata": {},
   "outputs": [
    {
     "data": {
      "text/plain": [
       "22"
      ]
     },
     "execution_count": 7,
     "metadata": {},
     "output_type": "execute_result"
    }
   ],
   "source": [
    "len(get_housing(0))"
   ]
  },
  {
   "cell_type": "code",
   "execution_count": 11,
   "metadata": {},
   "outputs": [
    {
     "data": {
      "text/plain": [
       "NearestNeighbors(algorithm='kd_tree', leaf_size=30, metric='minkowski',\n",
       "         metric_params=None, n_jobs=None, n_neighbors=6, p=2, radius=1.0)"
      ]
     },
     "execution_count": 11,
     "metadata": {},
     "output_type": "execute_result"
    }
   ],
   "source": [
    "from sklearn.neighbors import NearestNeighbors\n",
    "\n",
    "# Fit on TF-IDF Vectors\n",
    "nn  = NearestNeighbors(n_neighbors=6, algorithm='kd_tree')\n",
    "nn.fit(df.values)"
   ]
  },
  {
   "cell_type": "code",
   "execution_count": 12,
   "metadata": {},
   "outputs": [
    {
     "name": "stdout",
     "output_type": "stream",
     "text": [
      "Lovell, WY 19434\n",
      "Council Grove, KS 6499\n",
      "Colquitt, GA 2918\n",
      "Milo, ME 22843\n",
      "Earle, AR 721\n",
      "Columbus Junction, IA 5769\n"
     ]
    }
   ],
   "source": [
    "import numpy as np\n",
    "\n",
    "test = get_housing(19434)\n",
    "test = np.array(test)\n",
    "test\n",
    "\n",
    "for i in nn.kneighbors(test.reshape(1, -1))[1][0]:\n",
    "    print(requests.get(f'https://api.citrics.io/jkekal6d6e5si3i2ld66d4dl/citydata/{i}').json()['name_with_com'], i)"
   ]
  },
  {
   "cell_type": "code",
   "execution_count": null,
   "metadata": {},
   "outputs": [],
   "source": []
  }
 ],
 "metadata": {
  "kernelspec": {
   "display_name": "Python 3",
   "language": "python",
   "name": "python3"
  },
  "language_info": {
   "codemirror_mode": {
    "name": "ipython",
    "version": 3
   },
   "file_extension": ".py",
   "mimetype": "text/x-python",
   "name": "python",
   "nbconvert_exporter": "python",
   "pygments_lexer": "ipython3",
   "version": "3.7.3"
  }
 },
 "nbformat": 4,
 "nbformat_minor": 2
}

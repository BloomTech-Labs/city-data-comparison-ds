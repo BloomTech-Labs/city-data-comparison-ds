{
 "cells": [
  {
   "cell_type": "code",
   "execution_count": 1,
   "metadata": {},
   "outputs": [],
   "source": [
    "import wikipedia as wiki"
   ]
  },
  {
   "cell_type": "code",
   "execution_count": 6,
   "metadata": {},
   "outputs": [
    {
     "name": "stdout",
     "output_type": "stream",
     "text": [
      "(['City', 'The City & the City', 'New York City', 'City (disambiguation)', 'City to City', 'Kansas City, Missouri', 'With a City', 'City Of', 'This City', 'Jersey City, New Jersey', 'In This City', 'Atlantic City, New Jersey', 'Philadelphia', 'Kansas City metropolitan area', 'Quebec City', 'History of the Kansas City Chiefs', 'Kansas City Chiefs', 'Wuhan', 'City of London', 'Mexico City', 'Kansas City, Kansas', 'Sister city', 'Hull City A.F.C.', 'Kansas City City Hall', 'Ho Chi Minh City', 'Los Angeles', 'Baltimore', 'Manchester City F.C.', 'Prefecture-level city', 'Salt Lake City', 'Paris', 'Quezon City', 'Oklahoma City', 'Dundee', 'Global city', 'Swansea City A.F.C.', 'Dancing in the City', 'Freedom of the City', 'City of Kansas City', 'City of Dreams', 'Carson City, Nevada', 'Coventry City F.C.', 'Culver City, California', 'City-state', 'Cardiff City F.C.', 'Cyber City', 'Norwich City F.C.', 'Mayor of New York City', 'Gate City', 'Cathedral city (disambiguation)', 'Birmingham City F.C.', 'Columbia City', 'The City', 'Bristol City F.C.', 'Vilnius', 'Troy', 'Detroit', 'Stoke City F.C.', 'Forest City', 'Luxembourg City', 'Characters of Holby City', 'Panama City', 'City of Westminster', 'Oxford City F.C.', 'Brooklyn', 'In the City', 'Orlando City', 'Dublin', 'Vatican City', 'Holy See', 'St. Louis', 'Dhaka', 'Black City', 'Aberdeen', 'Mother city', 'Leicester City F.C.', 'Cork (city)', 'Jefferson City News Tribune', 'Davao City', 'Ocean City', 'Honda City', 'Fukuoka', 'City Palace', 'Cities of the Philippines', 'List of Butuan city officials', 'City University of New York', 'Mad City', 'Batman: Arkham City', 'Valenzuela, Metro Manila', 'Boroughs of New York City', 'Provincial city', 'List of River City characters', 'Sex and the City', 'City Girls', 'Bradford City A.F.C.', 'Junction City', 'Manila', 'Johnson City', 'Green City', 'City of Blood'], None)\n"
     ]
    }
   ],
   "source": [
    "print(wiki.search('city', results=100,suggestion=True))"
   ]
  },
  {
   "cell_type": "code",
   "execution_count": 7,
   "metadata": {},
   "outputs": [
    {
     "name": "stdout",
     "output_type": "stream",
     "text": [
      "['All articles containing potentially dated statements', 'All articles with dead external links', 'Articles containing potentially dated statements from 2011', 'Articles containing potentially dated statements from 2018', 'Articles with Curlie links', 'Articles with dead external links from August 2018', 'Articles with dead external links from December 2017', 'Articles with dead external links from October 2017', 'Articles with permanently dead external links', 'Articles with short description', 'Articles with specifically marked weasel-worded phrases from October 2019', 'CS1 Spanish-language sources (es)', 'CS1 errors: missing periodical', 'CS1 maint: location', 'CS1 maint: multiple names: authors list', 'City', 'Populated places by type', 'Types of country subdivisions', 'Types of populated places', 'Webarchive template wayback links', 'Wikipedia articles with GND identifiers', 'Wikipedia articles with HDS identifiers', 'Wikipedia articles with NDL identifiers']\n"
     ]
    }
   ],
   "source": [
    "print(wiki.page(\"city\").categories)"
   ]
  }
 ],
 "metadata": {
  "kernelspec": {
   "display_name": "Python 3",
   "language": "python",
   "name": "python3"
  },
  "language_info": {
   "codemirror_mode": {
    "name": "ipython",
    "version": 3
   },
   "file_extension": ".py",
   "mimetype": "text/x-python",
   "name": "python",
   "nbconvert_exporter": "python",
   "pygments_lexer": "ipython3",
   "version": "3.7.4"
  }
 },
 "nbformat": 4,
 "nbformat_minor": 4
}

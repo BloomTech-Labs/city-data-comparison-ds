{
 "cells": [
  {
   "cell_type": "markdown",
   "metadata": {},
   "source": [
    "# Zillow Dataset Cleaning (housing data)"
   ]
  },
  {
   "cell_type": "code",
   "execution_count": 1,
   "metadata": {},
   "outputs": [
    {
     "name": "stderr",
     "output_type": "stream",
     "text": [
      "C:\\Users\\Gaming PC\\Anaconda3\\lib\\site-packages\\IPython\\core\\interactiveshell.py:3058: DtypeWarning: Columns (11,15,19,23,27,31,35,39,43,47,51,55,59,61,65,69,75,79,83,87,91,95,103,107,111,115,119,127,131,135,139,143,153,157,161,165,169,215,219,223,227,231,239,243,247,251,255,259,263,267,271,279,287,295,303,311,319,323,327,331,335,339,343,345,351,355,359,363,367,371,379,383,407,411,419,423,427,431,435,439,447,451,455,459,463,467,471,475,479,483,487,489,495,499,503,507,511,515,519,523,527,531,535,539,543,547,551,555,559,563,567,571,575,579,583,587,591,595,599,607,611,621,625,629,633,637,641,649,657,661,665,673,681,689,693,697,701,705,709,711,712,713,721,725,729,733,737,745,749,753,757,761,765,769,773,777,781,785,789,793,801,805,809,813,821,825,829,833,837,841,845,849,853,857,859,863,864,865,869,870,871,872,873,877,879,880,881,885,887,888,889,893,901,909,917,921,925,929,933,937,941,945,949,953,954,958,959,960,961,962,963,964,965,970,974,975,976,977,979,983,987,997,1001,1005,1009,1017,1033,1037,1041,1045,1053,1057,1061,1065,1073,1077,1081,1085,1089,1093,1101,1105,1113,1125,1129,1133,1137,1141,1145,1149,1153,1157,1161,1171,1175,1177,1181,1191,1195,1199,1203,1207,1211,1215,1219,1223,1231,1235,1239,1243,1247,1251,1255,1259,1263,1267,1275,1279,1283,1287,1291,1295,1299,1303,1307,1308,1309,1319,1323,1327,1331,1335,1339,1347,1351,1353,1357,1367,1371,1375,1379,1383,1387,1395,1399,1403,1407,1415,1419,1423,1427,1431,1435,1439,1443,1447,1455,1459,1463,1471,1475,1479,1487,1491,1495,1499,1503,1507,1511,1515,1516,1517,1527,1531,1539,1543,1547,1551,1555,1559,1563,1565,1575,1579,1583,1587,1591,1595,1597,1607,1611,1615,1619,1623,1635,1639,1643,1647,1651,1655,1659,1671,1675,1679,1683,1687,1691,1695,1711,1715,1719,1723,1727,1731,1739,1745,1749,1751,1757,1761,1765,1769,1773,1777,1781,1785,1789,1793,1797,1801,1805,1807,1811,1813,1817,1819,1821,1825,1829,1831,1833,1835,1839,1841,1843,1845,1847,1851,1855,1857,1859,1861,1863,1867,1873,1877,1881,1885,1889,1893,1897,1901,1905,1909,1913,1917,1921,1925,1929,1933,1937,1941,1945,1949,1953,1957,1961,1965,1969,1973,1977,1981,1985,1987,1993,1997,2001,2005,2009,2013,2015,2019,2021,2025,2029,2033,2037,2039,2041,2045,2049,2053,2057,2061,2065,2069,2073,2077,2089,2093) have mixed types. Specify dtype option on import or set low_memory=False.\n",
      "  interactivity=interactivity, compiler=compiler, result=result)\n"
     ]
    },
    {
     "name": "stdout",
     "output_type": "stream",
     "text": [
      "Shape of house_bd1_df: (11106, 149)\n",
      "Shape of house_bd2_df: (19552, 149)\n",
      "Shape of house_bd3_df: (21749, 149)\n",
      "Shape of house_bd4_df: (21863, 149)\n",
      "Shape of house_bd5_df: (17569, 149)\n",
      "Shape of rental_bd1_df: (803, 123)\n",
      "Shape of rental_bd2_df: (1263, 123)\n",
      "Shape of rental_bd3_df: (989, 123)\n",
      "Shape of rental_bd4_df: (317, 123)\n",
      "Shape of rental_bd5_df: (53, 112)\n"
     ]
    }
   ],
   "source": [
    "import pandas as pd\n",
    "\n",
    "\n",
    "# Import datasets\n",
    "\n",
    "# Houses Data\n",
    "house_bd1_df = pd.read_csv('datasets/zillow/Housing/City_Zhvi_1bedroom.csv', encoding = 'iso-8859-1')\n",
    "house_bd2_df = pd.read_csv('datasets/zillow/Housing/City_Zhvi_2bedroom.csv', encoding = 'iso-8859-1')\n",
    "house_bd3_df = pd.read_csv('datasets/zillow/Housing/City_Zhvi_3bedroom.csv', encoding = 'iso-8859-1')\n",
    "house_bd4_df = pd.read_csv('datasets/zillow/Housing/City_Zhvi_4bedroom.csv', encoding = 'iso-8859-1')\n",
    "house_bd5_df = pd.read_csv('datasets/zillow/Housing/City_Zhvi_5bedroomOrMore.csv', encoding = 'iso-8859-1')\n",
    "\n",
    "# Rentals Data\n",
    "rental_bd1_df = pd.read_csv('datasets/zillow/Rentals/City_MedianRentalPrice_1Bedroom.csv', encoding = 'iso-8859-1')\n",
    "rental_bd2_df = pd.read_csv('datasets/zillow/Rentals/City_MedianRentalPrice_2Bedroom.csv', encoding = 'iso-8859-1')\n",
    "rental_bd3_df = pd.read_csv('datasets/zillow/Rentals/City_MedianRentalPrice_3Bedroom.csv', encoding = 'iso-8859-1')\n",
    "rental_bd4_df = pd.read_csv('datasets/zillow/Rentals/City_MedianRentalPrice_4Bedroom.csv', encoding = 'iso-8859-1')\n",
    "rental_bd5_df = pd.read_csv('datasets/zillow/Rentals/City_MedianRentalPrice_5BedroomOrMore.csv', encoding = 'iso-8859-1')\n",
    "\n",
    "# Census Data\n",
    "census_df = pd.read_csv('datasets/all_census_formated.csv')\n",
    "\n",
    "# Shapes of housing data\n",
    "print('Shape of house_bd1_df:', house_bd1_df.shape)\n",
    "print('Shape of house_bd2_df:', house_bd2_df.shape)\n",
    "print('Shape of house_bd3_df:', house_bd3_df.shape)\n",
    "print('Shape of house_bd4_df:', house_bd4_df.shape)\n",
    "print('Shape of house_bd5_df:', house_bd5_df.shape)\n",
    "\n",
    "# Shapes of Rentals data\n",
    "print('Shape of rental_bd1_df:', rental_bd1_df.shape)\n",
    "print('Shape of rental_bd2_df:', rental_bd2_df.shape)\n",
    "print('Shape of rental_bd3_df:', rental_bd3_df.shape)\n",
    "print('Shape of rental_bd4_df:', rental_bd4_df.shape)\n",
    "print('Shape of rental_bd5_df:', rental_bd5_df.shape)"
   ]
  },
  {
   "cell_type": "markdown",
   "metadata": {},
   "source": [
    "## Format city and state names"
   ]
  },
  {
   "cell_type": "code",
   "execution_count": 2,
   "metadata": {},
   "outputs": [],
   "source": [
    "def format_names(X):\n",
    "    \n",
    "    full_name = []\n",
    "    for x in range(0,len(X.RegionName)):\n",
    "        full_name.append(X.RegionName[x] + ' ' + X.State[x])\n",
    "    \n",
    "    #insert full_name column\n",
    "    X['full_name'] = full_name\n",
    "    \n",
    "    return X    "
   ]
  },
  {
   "cell_type": "code",
   "execution_count": 3,
   "metadata": {},
   "outputs": [],
   "source": [
    "# Apply format_names function to all dataframes\n",
    "\n",
    "house_bd1_df = format_names(house_bd1_df)\n",
    "house_bd2_df = format_names(house_bd2_df)\n",
    "house_bd3_df = format_names(house_bd3_df)\n",
    "house_bd4_df = format_names(house_bd4_df)\n",
    "house_bd5_df = format_names(house_bd5_df)\n",
    "\n",
    "rental_bd1_df = format_names(rental_bd1_df)\n",
    "rental_bd2_df = format_names(rental_bd2_df)\n",
    "rental_bd3_df = format_names(rental_bd3_df)\n",
    "rental_bd4_df = format_names(rental_bd4_df)\n",
    "rental_bd5_df = format_names(rental_bd5_df)"
   ]
  },
  {
   "cell_type": "markdown",
   "metadata": {},
   "source": [
    "## Drop cities not in largest dataset"
   ]
  },
  {
   "cell_type": "code",
   "execution_count": 4,
   "metadata": {},
   "outputs": [],
   "source": [
    "def drop_cities(df):\n",
    "    \"\"\"\n",
    "    This function drops cities not included in the largest dataset, \"house_bd4_df\"\n",
    "    \"\"\"\n",
    "    \"\"\n",
    "    cities = []\n",
    "    for city in df['full_name']:\n",
    "        if city not in list(house_bd4_df['full_name']):\n",
    "            cities.append(city)\n",
    "            \n",
    "    # drop cities\n",
    "    for city in cities:\n",
    "        df = df[df['full_name'] != city]\n",
    "    \n",
    "    return df"
   ]
  },
  {
   "cell_type": "code",
   "execution_count": 5,
   "metadata": {},
   "outputs": [
    {
     "name": "stdout",
     "output_type": "stream",
     "text": [
      "Finished Processing house_bd1_df...\n",
      "Finished Processing house_bd2_df...\n",
      "Finished Processing house_bd3_df...\n",
      "Finished Processing house_bd4_df...\n",
      "Finished Processing house_bd5_df...\n",
      "Finished Processing rental_bd1_df...\n",
      "Finished Processing rental_bd2_df...\n",
      "Finished Processing rental_bd3_df...\n",
      "Finished Processing rental_bd4_df...\n",
      "Finished Processing rental_bd5_df...\n"
     ]
    }
   ],
   "source": [
    "# Apply drop_cities function to all dataframes\n",
    "\n",
    "house_bd1_df = drop_cities(house_bd1_df)\n",
    "print(\"Finished Processing house_bd1_df...\")\n",
    "house_bd2_df = drop_cities(house_bd2_df)\n",
    "print(\"Finished Processing house_bd2_df...\")\n",
    "house_bd3_df = drop_cities(house_bd3_df)\n",
    "print(\"Finished Processing house_bd3_df...\")\n",
    "house_bd4_df = drop_cities(house_bd4_df)\n",
    "print(\"Finished Processing house_bd4_df...\")\n",
    "house_bd5_df = drop_cities(house_bd5_df)\n",
    "print(\"Finished Processing house_bd5_df...\")\n",
    "\n",
    "rental_bd1_df = drop_cities(rental_bd1_df)\n",
    "print(\"Finished Processing rental_bd1_df...\")\n",
    "rental_bd2_df = drop_cities(rental_bd2_df)\n",
    "print(\"Finished Processing rental_bd2_df...\")\n",
    "rental_bd3_df = drop_cities(rental_bd3_df)\n",
    "print(\"Finished Processing rental_bd3_df...\")\n",
    "rental_bd4_df = drop_cities(rental_bd4_df)\n",
    "print(\"Finished Processing rental_bd4_df...\")\n",
    "rental_bd5_df = drop_cities(rental_bd5_df)\n",
    "print(\"Finished Processing rental_bd5_df...\")"
   ]
  },
  {
   "cell_type": "code",
   "execution_count": 6,
   "metadata": {},
   "outputs": [
    {
     "name": "stdout",
     "output_type": "stream",
     "text": [
      "Shape of house_bd1_df: (10314, 150)\n",
      "Shape of house_bd2_df: (17787, 150)\n",
      "Shape of house_bd3_df: (18852, 150)\n",
      "Shape of house_bd4_df: (21863, 150)\n",
      "Shape of house_bd5_df: (16562, 150)\n",
      "Shape of rental_bd1_df: (795, 124)\n",
      "Shape of rental_bd2_df: (1245, 124)\n",
      "Shape of rental_bd3_df: (963, 124)\n",
      "Shape of rental_bd4_df: (314, 124)\n",
      "Shape of rental_bd5_df: (52, 113)\n"
     ]
    }
   ],
   "source": [
    "# Shapes of housing data\n",
    "print('Shape of house_bd1_df:', house_bd1_df.shape)\n",
    "print('Shape of house_bd2_df:', house_bd2_df.shape)\n",
    "print('Shape of house_bd3_df:', house_bd3_df.shape)\n",
    "print('Shape of house_bd4_df:', house_bd4_df.shape)\n",
    "print('Shape of house_bd5_df:', house_bd5_df.shape)\n",
    "\n",
    "# Shapes of Rentals data\n",
    "print('Shape of rental_bd1_df:', rental_bd1_df.shape)\n",
    "print('Shape of rental_bd2_df:', rental_bd2_df.shape)\n",
    "print('Shape of rental_bd3_df:', rental_bd3_df.shape)\n",
    "print('Shape of rental_bd4_df:', rental_bd4_df.shape)\n",
    "print('Shape of rental_bd5_df:', rental_bd5_df.shape)"
   ]
  },
  {
   "cell_type": "code",
   "execution_count": 7,
   "metadata": {},
   "outputs": [],
   "source": [
    "# Rename house dataset columns to differentiate between bedrooms for merging datasets\n",
    "\n",
    "for index in range(6,148):\n",
    "    house_bd1_df.rename(columns = {house_bd1_df.columns[index]:'bd1-'+ house_bd1_df.columns[index]}, inplace = True)\n",
    "    \n",
    "for index in range(6,148):\n",
    "    house_bd2_df.rename(columns = {house_bd2_df.columns[index]:'bd2-'+ house_bd2_df.columns[index]}, inplace = True)\n",
    "    \n",
    "for index in range(6,148):\n",
    "    house_bd3_df.rename(columns = {house_bd3_df.columns[index]:'bd3-'+ house_bd3_df.columns[index]}, inplace = True)\n",
    "    \n",
    "for index in range(6,148):\n",
    "    house_bd4_df.rename(columns = {house_bd4_df.columns[index]:'bd4-'+ house_bd4_df.columns[index]}, inplace = True)\n",
    "    \n",
    "for index in range(6,148):\n",
    "    house_bd5_df.rename(columns = {house_bd5_df.columns[index]:'bd5'+ house_bd5_df.columns[index]}, inplace = True)"
   ]
  },
  {
   "cell_type": "code",
   "execution_count": 8,
   "metadata": {},
   "outputs": [],
   "source": [
    "# Rename rental dataset columns to differentiate between bedrooms for merging datasets\n",
    "\n",
    "for index in range(5,122):\n",
    "    rental_bd1_df.rename(columns = {rental_bd1_df.columns[index]:'bd1-'+ rental_bd1_df.columns[index]}, inplace = True)\n",
    "    \n",
    "for index in range(5,122):\n",
    "    rental_bd2_df.rename(columns = {rental_bd2_df.columns[index]:'bd2-'+ rental_bd2_df.columns[index]}, inplace = True)\n",
    "\n",
    "for index in range(5,122):\n",
    "    rental_bd3_df.rename(columns = {rental_bd3_df.columns[index]:'bd3-'+ rental_bd3_df.columns[index]}, inplace = True)\n",
    "    \n",
    "for index in range(5,122):\n",
    "    rental_bd4_df.rename(columns = {rental_bd4_df.columns[index]:'bd4-'+ rental_bd4_df.columns[index]}, inplace = True)\n",
    "    \n",
    "for index in range(5,111):\n",
    "    rental_bd5_df.rename(columns = {rental_bd5_df.columns[index]:'bd5-'+ rental_bd5_df.columns[index]}, inplace = True)"
   ]
  },
  {
   "cell_type": "code",
   "execution_count": 49,
   "metadata": {},
   "outputs": [
    {
     "data": {
      "text/plain": [
       "(21863, 1360)"
      ]
     },
     "execution_count": 49,
     "metadata": {},
     "output_type": "execute_result"
    }
   ],
   "source": [
    "# Merge datasets\n",
    "\n",
    "# Add housing data\n",
    "new_df = pd.concat([house_bd4_df,house_bd1_df], axis = 1)\n",
    "new_df = pd.concat([new_df,house_bd2_df], axis = 1)\n",
    "new_df = pd.concat([new_df,house_bd3_df], axis = 1)\n",
    "new_df = pd.concat([new_df,house_bd5_df], axis = 1)\n",
    "\n",
    "# Add rental data\n",
    "new_df = pd.concat([new_df,rental_bd1_df], axis = 1)\n",
    "new_df = pd.concat([new_df,rental_bd2_df], axis = 1)\n",
    "new_df = pd.concat([new_df,rental_bd3_df], axis = 1)\n",
    "new_df = pd.concat([new_df,rental_bd4_df], axis = 1)\n",
    "new_df = pd.concat([new_df,rental_bd5_df], axis = 1)\n",
    "\n",
    "# Reset index\n",
    "new_df = new_df.reset_index()\n",
    "\n",
    "new_df.shape"
   ]
  },
  {
   "cell_type": "code",
   "execution_count": 54,
   "metadata": {},
   "outputs": [
    {
     "name": "stdout",
     "output_type": "stream",
     "text": [
      "Anchorage AK\n",
      "Augusta GA\n",
      "Lexington KY\n",
      "Louisville KY\n"
     ]
    }
   ],
   "source": [
    "# Find these cities and confirm their names\n",
    "\n",
    "city_missing = ['Anchorage AK', 'Athensv GA', 'Augusta GA', 'Lexington KY', 'Louisville KY']\n",
    "\n",
    "check = house_bd4_df.full_name.values\n",
    "def find_missing(city):\n",
    "    for i in check:\n",
    "        if city in i:\n",
    "            print(i)\n",
    "\n",
    "for x in city_missing:\n",
    "    find_missing(x)"
   ]
  },
  {
   "cell_type": "code",
   "execution_count": 76,
   "metadata": {},
   "outputs": [],
   "source": [
    "# Create a function to create true/false columns in the census data for each city in each dataset \n",
    "# True will mean that the data for the city is within the dataset\n",
    "# False will mean that the data for the city is not within the dataset\n",
    "\n",
    "\n",
    "def create_contain_column(X):\n",
    "    \"\"\"\n",
    "    returns a dataframe\n",
    "    X should be the Census Data\n",
    "    \"\"\"\n",
    "    # Create empty lists\n",
    "    house_bd1 = []\n",
    "    house_bd2 = []\n",
    "    house_bd3 = []\n",
    "    house_bd4 = []\n",
    "    house_bd5 = []\n",
    "    \n",
    "    rental_bd1 = []\n",
    "    rental_bd2 = []\n",
    "    rental_bd3 = []\n",
    "    rental_bd4 = []\n",
    "    rental_bd5 = []\n",
    "    \n",
    "    # House datasets - Check to see if the city names in the census data is in the House datasets\n",
    "    \n",
    "    for name in X.full_name:\n",
    "        if name in house_bd1_df.full_name.values:\n",
    "            house_bd1.append(True)\n",
    "        else:\n",
    "            house_bd1.append(False)\n",
    "    \n",
    "    for name in X.full_name:\n",
    "        if name in house_bd2_df.full_name.values:\n",
    "            house_bd2.append(True)\n",
    "        else:\n",
    "            house_bd2.append(False)    \n",
    "            \n",
    "    for name in X.full_name:\n",
    "        if name in house_bd3_df.full_name.values:\n",
    "            house_bd3.append(True)\n",
    "        else:\n",
    "            house_bd3.append(False)       \n",
    "            \n",
    "    for name in X.full_name:\n",
    "        if name in house_bd4_df.full_name.values:\n",
    "            house_bd4.append(True)\n",
    "        else:\n",
    "            house_bd4.append(False)            \n",
    "            \n",
    "    for name in X.full_name:\n",
    "        if name in house_bd5_df.full_name.values:\n",
    "            house_bd5.append(True)\n",
    "        else:\n",
    "            house_bd5.append(False)              \n",
    "    \n",
    "    \n",
    "    # Rental datasets - Check to see if the city names in the census data is in the rental datasets\n",
    "    \n",
    "    for name in X.full_name:\n",
    "        if name in rental_bd1_df.full_name.values:\n",
    "            rental_bd1.append(True)\n",
    "        else:\n",
    "            rental_bd1.append(False)   \n",
    "            \n",
    "    for name in X.full_name:\n",
    "        if name in rental_bd2_df.full_name.values:\n",
    "            rental_bd2.append(True)\n",
    "        else:\n",
    "            rental_bd2.append(False)   \n",
    "            \n",
    "    for name in X.full_name:\n",
    "        if name in rental_bd3_df.full_name.values:\n",
    "            rental_bd3.append(True)\n",
    "        else:\n",
    "            rental_bd3.append(False)  \n",
    "            \n",
    "    for name in X.full_name:\n",
    "        if name in rental_bd4_df.full_name.values:\n",
    "            rental_bd4.append(True)\n",
    "        else:\n",
    "            rental_bd4.append(False)   \n",
    "            \n",
    "            \n",
    "    for name in X.full_name:\n",
    "        if name in rental_bd5_df.full_name.values:\n",
    "            rental_bd5.append(True)\n",
    "        else:\n",
    "            rental_bd5.append(False)   \n",
    "            \n",
    "            \n",
    "    print(len(house_bd1))        \n",
    "            \n",
    "    \n",
    "    # Add columns from lists to census dataframe\n",
    "    X['zillow_house_bd1'] = house_bd1\n",
    "    X['zillow_house_bd2'] = house_bd2\n",
    "    X['zillow_house_bd3'] = house_bd3\n",
    "    X['zillow_house_bd4'] = house_bd4\n",
    "    X['zillow_house_bd5'] = house_bd5\n",
    "    X['zillow_rental_bd1'] = rental_bd1\n",
    "    X['zillow_rental_bd2'] = rental_bd2\n",
    "    X['zillow_rental_bd3'] = rental_bd3\n",
    "    X['zillow_rental_bd4'] = rental_bd4\n",
    "    X['zillow_rental_bd5'] = rental_bd5\n",
    "    \n",
    "    \n",
    "    return X"
   ]
  },
  {
   "cell_type": "code",
   "execution_count": null,
   "metadata": {},
   "outputs": [],
   "source": [
    "census_df_zillow = create_contain_column(census_df)"
   ]
  }
 ],
 "metadata": {
  "kernelspec": {
   "display_name": "Python 3",
   "language": "python",
   "name": "python3"
  },
  "language_info": {
   "codemirror_mode": {
    "name": "ipython",
    "version": 3
   },
   "file_extension": ".py",
   "mimetype": "text/x-python",
   "name": "python",
   "nbconvert_exporter": "python",
   "pygments_lexer": "ipython3",
   "version": "3.7.4"
  }
 },
 "nbformat": 4,
 "nbformat_minor": 4
}

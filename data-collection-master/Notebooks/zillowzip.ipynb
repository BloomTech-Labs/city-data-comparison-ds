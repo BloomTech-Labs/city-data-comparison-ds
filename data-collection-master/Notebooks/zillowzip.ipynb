{
 "cells": [
  {
   "cell_type": "markdown",
   "metadata": {},
   "source": [
    "## Collecting Zip codes and mapping them to Lat and Lon\n",
    "\n",
    "The zillow city dataset does not follow the same naming convention as the Census data. About 30% of the zillow data does not map on the city names of the census data. That being said, we have the lat. and long. for each city in the census data and zillow offers a very comprehensive dataset for housing prices based on zipcodes.\n",
    "\n",
    "The scope of this notebook is to map Latitude and Longidute to each zipcode in the zillow dataset. We are using a geo zip code data with 43000 zip codes to map to the zillow data. There are about 220 zipcodes in the zillow dataset that do not have a match in the geo zip code dataset. For these remaining zipcodes we will be pulling data from the smartystreets.com api."
   ]
  },
  {
   "cell_type": "code",
   "execution_count": 1,
   "metadata": {},
   "outputs": [],
   "source": [
    "import pandas as pd"
   ]
  },
  {
   "cell_type": "code",
   "execution_count": 2,
   "metadata": {},
   "outputs": [
    {
     "data": {
      "text/plain": [
       "['Zip_Zhvi_1bedroom',\n",
       " 'Zip_Zhvi_2bedroom',\n",
       " 'Zip_Zhvi_3bedroom',\n",
       " 'Zip_Zhvi_4bedroom',\n",
       " 'Zip_Zhvi_5Bedroom']"
      ]
     },
     "execution_count": 2,
     "metadata": {},
     "output_type": "execute_result"
    }
   ],
   "source": [
    "import os\n",
    "\n",
    "path = 'data/housing/bedroomzip/'\n",
    "files = os.listdir(path)\n",
    "names = [i.split('.csv')[0] for i in files]\n",
    "names"
   ]
  },
  {
   "cell_type": "code",
   "execution_count": 3,
   "metadata": {},
   "outputs": [
    {
     "name": "stdout",
     "output_type": "stream",
     "text": [
      "(13607, 150)\n",
      "(21864, 150)\n",
      "(24076, 150)\n",
      "(24071, 150)\n",
      "(20184, 150)\n"
     ]
    }
   ],
   "source": [
    "for i in files:\n",
    "    name = i.split('.csv')[0]\n",
    "    vars()[name] = pd.read_csv(path + i, encoding='latin')\n",
    "    print(vars()[name].shape)"
   ]
  },
  {
   "cell_type": "code",
   "execution_count": 5,
   "metadata": {},
   "outputs": [
    {
     "data": {
      "text/html": [
       "<div>\n",
       "<style scoped>\n",
       "    .dataframe tbody tr th:only-of-type {\n",
       "        vertical-align: middle;\n",
       "    }\n",
       "\n",
       "    .dataframe tbody tr th {\n",
       "        vertical-align: top;\n",
       "    }\n",
       "\n",
       "    .dataframe thead th {\n",
       "        text-align: right;\n",
       "    }\n",
       "</style>\n",
       "<table border=\"1\" class=\"dataframe\">\n",
       "  <thead>\n",
       "    <tr style=\"text-align: right;\">\n",
       "      <th></th>\n",
       "      <th>RegionID</th>\n",
       "      <th>RegionName</th>\n",
       "      <th>City</th>\n",
       "      <th>State</th>\n",
       "      <th>Metro</th>\n",
       "      <th>CountyName</th>\n",
       "      <th>SizeRank</th>\n",
       "      <th>2008-01</th>\n",
       "      <th>2008-02</th>\n",
       "      <th>2008-03</th>\n",
       "      <th>...</th>\n",
       "      <th>2019-02</th>\n",
       "      <th>2019-03</th>\n",
       "      <th>2019-04</th>\n",
       "      <th>2019-05</th>\n",
       "      <th>2019-06</th>\n",
       "      <th>2019-07</th>\n",
       "      <th>2019-08</th>\n",
       "      <th>2019-09</th>\n",
       "      <th>2019-10</th>\n",
       "      <th>2019-11</th>\n",
       "    </tr>\n",
       "  </thead>\n",
       "  <tbody>\n",
       "    <tr>\n",
       "      <th>0</th>\n",
       "      <td>61639</td>\n",
       "      <td>10025</td>\n",
       "      <td>New York</td>\n",
       "      <td>NY</td>\n",
       "      <td>New York-Newark-Jersey City</td>\n",
       "      <td>New York County</td>\n",
       "      <td>1</td>\n",
       "      <td>NaN</td>\n",
       "      <td>NaN</td>\n",
       "      <td>NaN</td>\n",
       "      <td>...</td>\n",
       "      <td>2.071432e+06</td>\n",
       "      <td>2.056974e+06</td>\n",
       "      <td>2.042780e+06</td>\n",
       "      <td>2.035366e+06</td>\n",
       "      <td>2.034423e+06</td>\n",
       "      <td>2.025748e+06</td>\n",
       "      <td>2.005972e+06</td>\n",
       "      <td>1.973243e+06</td>\n",
       "      <td>1.958949e+06</td>\n",
       "      <td>1.948357e+06</td>\n",
       "    </tr>\n",
       "    <tr>\n",
       "      <th>1</th>\n",
       "      <td>84654</td>\n",
       "      <td>60657</td>\n",
       "      <td>Chicago</td>\n",
       "      <td>IL</td>\n",
       "      <td>Chicago-Naperville-Elgin</td>\n",
       "      <td>Cook County</td>\n",
       "      <td>2</td>\n",
       "      <td>NaN</td>\n",
       "      <td>NaN</td>\n",
       "      <td>NaN</td>\n",
       "      <td>...</td>\n",
       "      <td>5.894837e+05</td>\n",
       "      <td>5.897887e+05</td>\n",
       "      <td>5.917907e+05</td>\n",
       "      <td>5.927763e+05</td>\n",
       "      <td>5.910983e+05</td>\n",
       "      <td>5.901127e+05</td>\n",
       "      <td>5.871780e+05</td>\n",
       "      <td>5.847233e+05</td>\n",
       "      <td>5.823167e+05</td>\n",
       "      <td>5.815510e+05</td>\n",
       "    </tr>\n",
       "    <tr>\n",
       "      <th>2</th>\n",
       "      <td>61637</td>\n",
       "      <td>10023</td>\n",
       "      <td>New York</td>\n",
       "      <td>NY</td>\n",
       "      <td>New York-Newark-Jersey City</td>\n",
       "      <td>New York County</td>\n",
       "      <td>3</td>\n",
       "      <td>NaN</td>\n",
       "      <td>NaN</td>\n",
       "      <td>NaN</td>\n",
       "      <td>...</td>\n",
       "      <td>3.483464e+06</td>\n",
       "      <td>3.445784e+06</td>\n",
       "      <td>3.422120e+06</td>\n",
       "      <td>3.384821e+06</td>\n",
       "      <td>3.368683e+06</td>\n",
       "      <td>3.347543e+06</td>\n",
       "      <td>3.338804e+06</td>\n",
       "      <td>3.334868e+06</td>\n",
       "      <td>3.346086e+06</td>\n",
       "      <td>3.355841e+06</td>\n",
       "    </tr>\n",
       "    <tr>\n",
       "      <th>3</th>\n",
       "      <td>91982</td>\n",
       "      <td>77494</td>\n",
       "      <td>Katy</td>\n",
       "      <td>TX</td>\n",
       "      <td>Houston-The Woodlands-Sugar Land</td>\n",
       "      <td>Harris County</td>\n",
       "      <td>4</td>\n",
       "      <td>197135.0</td>\n",
       "      <td>196620.0</td>\n",
       "      <td>196120.333333</td>\n",
       "      <td>...</td>\n",
       "      <td>2.545590e+05</td>\n",
       "      <td>2.549057e+05</td>\n",
       "      <td>2.540797e+05</td>\n",
       "      <td>2.533590e+05</td>\n",
       "      <td>2.528003e+05</td>\n",
       "      <td>2.530083e+05</td>\n",
       "      <td>2.531913e+05</td>\n",
       "      <td>2.541217e+05</td>\n",
       "      <td>2.546267e+05</td>\n",
       "      <td>2.555150e+05</td>\n",
       "    </tr>\n",
       "    <tr>\n",
       "      <th>4</th>\n",
       "      <td>84616</td>\n",
       "      <td>60614</td>\n",
       "      <td>Chicago</td>\n",
       "      <td>IL</td>\n",
       "      <td>Chicago-Naperville-Elgin</td>\n",
       "      <td>Cook County</td>\n",
       "      <td>5</td>\n",
       "      <td>NaN</td>\n",
       "      <td>NaN</td>\n",
       "      <td>NaN</td>\n",
       "      <td>...</td>\n",
       "      <td>6.942263e+05</td>\n",
       "      <td>6.947930e+05</td>\n",
       "      <td>6.981180e+05</td>\n",
       "      <td>6.997963e+05</td>\n",
       "      <td>6.988157e+05</td>\n",
       "      <td>6.963590e+05</td>\n",
       "      <td>6.934267e+05</td>\n",
       "      <td>6.905770e+05</td>\n",
       "      <td>6.891443e+05</td>\n",
       "      <td>6.878177e+05</td>\n",
       "    </tr>\n",
       "  </tbody>\n",
       "</table>\n",
       "<p>5 rows × 150 columns</p>\n",
       "</div>"
      ],
      "text/plain": [
       "   RegionID  RegionName      City State                             Metro  \\\n",
       "0     61639       10025  New York    NY       New York-Newark-Jersey City   \n",
       "1     84654       60657   Chicago    IL          Chicago-Naperville-Elgin   \n",
       "2     61637       10023  New York    NY       New York-Newark-Jersey City   \n",
       "3     91982       77494      Katy    TX  Houston-The Woodlands-Sugar Land   \n",
       "4     84616       60614   Chicago    IL          Chicago-Naperville-Elgin   \n",
       "\n",
       "        CountyName  SizeRank   2008-01   2008-02        2008-03  ...  \\\n",
       "0  New York County         1       NaN       NaN            NaN  ...   \n",
       "1      Cook County         2       NaN       NaN            NaN  ...   \n",
       "2  New York County         3       NaN       NaN            NaN  ...   \n",
       "3    Harris County         4  197135.0  196620.0  196120.333333  ...   \n",
       "4      Cook County         5       NaN       NaN            NaN  ...   \n",
       "\n",
       "        2019-02       2019-03       2019-04       2019-05       2019-06  \\\n",
       "0  2.071432e+06  2.056974e+06  2.042780e+06  2.035366e+06  2.034423e+06   \n",
       "1  5.894837e+05  5.897887e+05  5.917907e+05  5.927763e+05  5.910983e+05   \n",
       "2  3.483464e+06  3.445784e+06  3.422120e+06  3.384821e+06  3.368683e+06   \n",
       "3  2.545590e+05  2.549057e+05  2.540797e+05  2.533590e+05  2.528003e+05   \n",
       "4  6.942263e+05  6.947930e+05  6.981180e+05  6.997963e+05  6.988157e+05   \n",
       "\n",
       "        2019-07       2019-08       2019-09       2019-10       2019-11  \n",
       "0  2.025748e+06  2.005972e+06  1.973243e+06  1.958949e+06  1.948357e+06  \n",
       "1  5.901127e+05  5.871780e+05  5.847233e+05  5.823167e+05  5.815510e+05  \n",
       "2  3.347543e+06  3.338804e+06  3.334868e+06  3.346086e+06  3.355841e+06  \n",
       "3  2.530083e+05  2.531913e+05  2.541217e+05  2.546267e+05  2.555150e+05  \n",
       "4  6.963590e+05  6.934267e+05  6.905770e+05  6.891443e+05  6.878177e+05  \n",
       "\n",
       "[5 rows x 150 columns]"
      ]
     },
     "execution_count": 5,
     "metadata": {},
     "output_type": "execute_result"
    }
   ],
   "source": [
    "Zip_Zhvi_3bedroom.head()"
   ]
  },
  {
   "cell_type": "code",
   "execution_count": 8,
   "metadata": {},
   "outputs": [
    {
     "data": {
      "text/plain": [
       "205668.97360857067"
      ]
     },
     "execution_count": 8,
     "metadata": {},
     "output_type": "execute_result"
    }
   ],
   "source": [
    "Zip_Zhvi_3bedroom['2008-01'].mean()"
   ]
  },
  {
   "cell_type": "code",
   "execution_count": 9,
   "metadata": {},
   "outputs": [],
   "source": [
    "df = pd.read_csv('data/housing/us-zip-code-latitude-and-longitude.csv', sep=';')"
   ]
  },
  {
   "cell_type": "code",
   "execution_count": 14,
   "metadata": {},
   "outputs": [
    {
     "data": {
      "text/plain": [
       "214"
      ]
     },
     "execution_count": 14,
     "metadata": {},
     "output_type": "execute_result"
    }
   ],
   "source": [
    "needed = []\n",
    "num = 0\n",
    "for i in names:\n",
    "    out = vars()[i]\n",
    "    for a in out.RegionName.values:\n",
    "        if a not in check and a not in needed:\n",
    "            num += 1\n",
    "            needed.append(a)\n",
    "len(needed)"
   ]
  },
  {
   "cell_type": "code",
   "execution_count": null,
   "metadata": {},
   "outputs": [],
   "source": []
  },
  {
   "cell_type": "code",
   "execution_count": 16,
   "metadata": {},
   "outputs": [],
   "source": [
    "import requests\n",
    "\n",
    "get = requests.get(f\"https://us-zipcode.api.smartystreets.com/lookup?auth-id=ffe8db69-6b00-f03d-b5fe-3d39699890ce&auth-token=PQ6B8aOVVhpKgsTcSomX&zipcode=6461\")"
   ]
  },
  {
   "cell_type": "code",
   "execution_count": 24,
   "metadata": {},
   "outputs": [],
   "source": [
    "format_it = get.json()[0]['zipcodes'][0]\n",
    "lat = format_it['latitude']\n",
    "lng = format_it['longitude']"
   ]
  },
  {
   "cell_type": "code",
   "execution_count": 33,
   "metadata": {},
   "outputs": [],
   "source": [
    "def get_data(zipc):\n",
    "    try:\n",
    "        get = requests.get(f\"https://us-zipcode.api.smartystreets.com/lookup?auth-id=ffe8db69-6b00-f03d-b5fe-3d39699890ce&auth-token=PQ6B8aOVVhpKgsTcSomX&zipcode={str(zipc)}\")\n",
    "        format_it = get.json()[0]['zipcodes'][0]\n",
    "        lat = format_it['latitude']\n",
    "        lng = format_it['longitude']\n",
    "        res = (zipc, lat, lng)\n",
    "    except:\n",
    "        res = (zipc, False, False)\n",
    "    return(res)"
   ]
  },
  {
   "cell_type": "code",
   "execution_count": 34,
   "metadata": {},
   "outputs": [],
   "source": [
    "it = get_data(39826)"
   ]
  },
  {
   "cell_type": "code",
   "execution_count": 35,
   "metadata": {},
   "outputs": [
    {
     "data": {
      "text/plain": [
       "31.82074"
      ]
     },
     "execution_count": 35,
     "metadata": {},
     "output_type": "execute_result"
    }
   ],
   "source": [
    "it[1]"
   ]
  },
  {
   "cell_type": "code",
   "execution_count": 36,
   "metadata": {},
   "outputs": [],
   "source": [
    "import time\n",
    "import concurrent.futures"
   ]
  },
  {
   "cell_type": "code",
   "execution_count": 38,
   "metadata": {},
   "outputs": [
    {
     "name": "stdout",
     "output_type": "stream",
     "text": [
      "Finished in 1.766184100000146 seconds\n"
     ]
    }
   ],
   "source": [
    "t1 = time.perf_counter()\n",
    "\n",
    "with concurrent.futures.ThreadPoolExecutor() as executor:\n",
    "    export_data = executor.map(get_data, needed)\n",
    "\n",
    "\n",
    "t2 = time.perf_counter()\n",
    "print(f'Finished in {t2-t1} seconds')"
   ]
  },
  {
   "cell_type": "code",
   "execution_count": 39,
   "metadata": {},
   "outputs": [],
   "source": [
    "loop_data = [i for i in export_data]"
   ]
  },
  {
   "cell_type": "code",
   "execution_count": 48,
   "metadata": {},
   "outputs": [],
   "source": [
    "remaining_zips = {}\n",
    "for i in loop_data:\n",
    "    remaining_zips[int(i[0])] = {'lat':i[1], 'lng':i[2]}"
   ]
  },
  {
   "cell_type": "code",
   "execution_count": 43,
   "metadata": {},
   "outputs": [
    {
     "data": {
      "text/plain": [
       "{'lat': 33.23384, 'lng': -111.64473}"
      ]
     },
     "execution_count": 43,
     "metadata": {},
     "output_type": "execute_result"
    }
   ],
   "source": [
    "remaining_zips[85142]"
   ]
  },
  {
   "cell_type": "code",
   "execution_count": 65,
   "metadata": {},
   "outputs": [],
   "source": [
    "main_dic = {}\n",
    "for i in df[['Zip','Latitude','Longitude']].values:\n",
    "    main_dic[i[0]] = {'lat':i[1], 'lng':i[2]}"
   ]
  },
  {
   "cell_type": "code",
   "execution_count": 66,
   "metadata": {},
   "outputs": [],
   "source": [
    "lat_place = []\n",
    "long_place = []\n",
    "for i in Zip_Zhvi_1bedroom.RegionName.values:\n",
    "    try:\n",
    "        lat_place.append(main_dic[i]['lat'])\n",
    "        long_place.append(main_dic[i]['lng'])\n",
    "    except:\n",
    "        lat_place.append(remaining_zips[i]['lat'])\n",
    "        long_place.append(remaining_zips[i]['lng'])     \n",
    "    "
   ]
  },
  {
   "cell_type": "code",
   "execution_count": 67,
   "metadata": {},
   "outputs": [
    {
     "data": {
      "text/plain": [
       "13607"
      ]
     },
     "execution_count": 67,
     "metadata": {},
     "output_type": "execute_result"
    }
   ],
   "source": [
    "len(lat_place)"
   ]
  },
  {
   "cell_type": "code",
   "execution_count": 68,
   "metadata": {},
   "outputs": [
    {
     "data": {
      "text/plain": [
       "13607"
      ]
     },
     "execution_count": 68,
     "metadata": {},
     "output_type": "execute_result"
    }
   ],
   "source": [
    "len(Zip_Zhvi_1bedroom)"
   ]
  },
  {
   "cell_type": "code",
   "execution_count": 70,
   "metadata": {},
   "outputs": [],
   "source": [
    "for a in names:\n",
    "    lat_place = []\n",
    "    long_place = []\n",
    "    for i in vars()[a].RegionName.values:\n",
    "        try:\n",
    "            lat_place.append(main_dic[i]['lat'])\n",
    "            long_place.append(main_dic[i]['lng'])\n",
    "        except:\n",
    "            lat_place.append(remaining_zips[i]['lat'])\n",
    "            long_place.append(remaining_zips[i]['lng']) \n",
    "    vars()[a]['lat'] = lat_place\n",
    "    vars()[a]['lng'] = long_place"
   ]
  },
  {
   "cell_type": "code",
   "execution_count": 71,
   "metadata": {},
   "outputs": [
    {
     "data": {
      "text/plain": [
       "['Zip_Zhvi_1bedroom',\n",
       " 'Zip_Zhvi_2bedroom',\n",
       " 'Zip_Zhvi_3bedroom',\n",
       " 'Zip_Zhvi_4bedroom',\n",
       " 'Zip_Zhvi_5Bedroom']"
      ]
     },
     "execution_count": 71,
     "metadata": {},
     "output_type": "execute_result"
    }
   ],
   "source": [
    "names"
   ]
  },
  {
   "cell_type": "code",
   "execution_count": 72,
   "metadata": {},
   "outputs": [
    {
     "data": {
      "text/html": [
       "<div>\n",
       "<style scoped>\n",
       "    .dataframe tbody tr th:only-of-type {\n",
       "        vertical-align: middle;\n",
       "    }\n",
       "\n",
       "    .dataframe tbody tr th {\n",
       "        vertical-align: top;\n",
       "    }\n",
       "\n",
       "    .dataframe thead th {\n",
       "        text-align: right;\n",
       "    }\n",
       "</style>\n",
       "<table border=\"1\" class=\"dataframe\">\n",
       "  <thead>\n",
       "    <tr style=\"text-align: right;\">\n",
       "      <th></th>\n",
       "      <th>RegionID</th>\n",
       "      <th>RegionName</th>\n",
       "      <th>City</th>\n",
       "      <th>State</th>\n",
       "      <th>Metro</th>\n",
       "      <th>CountyName</th>\n",
       "      <th>SizeRank</th>\n",
       "      <th>2008-01</th>\n",
       "      <th>2008-02</th>\n",
       "      <th>2008-03</th>\n",
       "      <th>...</th>\n",
       "      <th>2019-04</th>\n",
       "      <th>2019-05</th>\n",
       "      <th>2019-06</th>\n",
       "      <th>2019-07</th>\n",
       "      <th>2019-08</th>\n",
       "      <th>2019-09</th>\n",
       "      <th>2019-10</th>\n",
       "      <th>2019-11</th>\n",
       "      <th>lat</th>\n",
       "      <th>lng</th>\n",
       "    </tr>\n",
       "  </thead>\n",
       "  <tbody>\n",
       "    <tr>\n",
       "      <th>0</th>\n",
       "      <td>61639</td>\n",
       "      <td>10025</td>\n",
       "      <td>New York</td>\n",
       "      <td>NY</td>\n",
       "      <td>New York-Newark-Jersey City</td>\n",
       "      <td>New York County</td>\n",
       "      <td>1</td>\n",
       "      <td>NaN</td>\n",
       "      <td>NaN</td>\n",
       "      <td>NaN</td>\n",
       "      <td>...</td>\n",
       "      <td>2998417.0</td>\n",
       "      <td>3.008020e+06</td>\n",
       "      <td>3.018742e+06</td>\n",
       "      <td>3.001803e+06</td>\n",
       "      <td>2.983767e+06</td>\n",
       "      <td>2.962636e+06</td>\n",
       "      <td>2.980488e+06</td>\n",
       "      <td>3.002555e+06</td>\n",
       "      <td>40.798502</td>\n",
       "      <td>-73.96811</td>\n",
       "    </tr>\n",
       "    <tr>\n",
       "      <th>1</th>\n",
       "      <td>84654</td>\n",
       "      <td>60657</td>\n",
       "      <td>Chicago</td>\n",
       "      <td>IL</td>\n",
       "      <td>Chicago-Naperville-Elgin</td>\n",
       "      <td>Cook County</td>\n",
       "      <td>2</td>\n",
       "      <td>NaN</td>\n",
       "      <td>NaN</td>\n",
       "      <td>NaN</td>\n",
       "      <td>...</td>\n",
       "      <td>1010288.0</td>\n",
       "      <td>1.012454e+06</td>\n",
       "      <td>1.010338e+06</td>\n",
       "      <td>1.008764e+06</td>\n",
       "      <td>1.006188e+06</td>\n",
       "      <td>1.006068e+06</td>\n",
       "      <td>1.005388e+06</td>\n",
       "      <td>1.005377e+06</td>\n",
       "      <td>41.940832</td>\n",
       "      <td>-87.65852</td>\n",
       "    </tr>\n",
       "    <tr>\n",
       "      <th>2</th>\n",
       "      <td>61637</td>\n",
       "      <td>10023</td>\n",
       "      <td>New York</td>\n",
       "      <td>NY</td>\n",
       "      <td>New York-Newark-Jersey City</td>\n",
       "      <td>New York County</td>\n",
       "      <td>3</td>\n",
       "      <td>NaN</td>\n",
       "      <td>NaN</td>\n",
       "      <td>NaN</td>\n",
       "      <td>...</td>\n",
       "      <td>6367316.0</td>\n",
       "      <td>6.409420e+06</td>\n",
       "      <td>6.425129e+06</td>\n",
       "      <td>6.446475e+06</td>\n",
       "      <td>6.487110e+06</td>\n",
       "      <td>6.514059e+06</td>\n",
       "      <td>6.543494e+06</td>\n",
       "      <td>6.524043e+06</td>\n",
       "      <td>40.776099</td>\n",
       "      <td>-73.98285</td>\n",
       "    </tr>\n",
       "    <tr>\n",
       "      <th>3</th>\n",
       "      <td>91982</td>\n",
       "      <td>77494</td>\n",
       "      <td>Katy</td>\n",
       "      <td>TX</td>\n",
       "      <td>Houston-The Woodlands-Sugar Land</td>\n",
       "      <td>Harris County</td>\n",
       "      <td>4</td>\n",
       "      <td>267042.0</td>\n",
       "      <td>266167.5</td>\n",
       "      <td>265567.333333</td>\n",
       "      <td>...</td>\n",
       "      <td>331012.0</td>\n",
       "      <td>3.302250e+05</td>\n",
       "      <td>3.295703e+05</td>\n",
       "      <td>3.297790e+05</td>\n",
       "      <td>3.298797e+05</td>\n",
       "      <td>3.309300e+05</td>\n",
       "      <td>3.314603e+05</td>\n",
       "      <td>3.318457e+05</td>\n",
       "      <td>29.760833</td>\n",
       "      <td>-95.81104</td>\n",
       "    </tr>\n",
       "    <tr>\n",
       "      <th>4</th>\n",
       "      <td>84616</td>\n",
       "      <td>60614</td>\n",
       "      <td>Chicago</td>\n",
       "      <td>IL</td>\n",
       "      <td>Chicago-Naperville-Elgin</td>\n",
       "      <td>Cook County</td>\n",
       "      <td>5</td>\n",
       "      <td>NaN</td>\n",
       "      <td>NaN</td>\n",
       "      <td>NaN</td>\n",
       "      <td>...</td>\n",
       "      <td>1253091.0</td>\n",
       "      <td>1.256735e+06</td>\n",
       "      <td>1.252838e+06</td>\n",
       "      <td>1.248100e+06</td>\n",
       "      <td>1.242790e+06</td>\n",
       "      <td>1.239398e+06</td>\n",
       "      <td>1.237450e+06</td>\n",
       "      <td>1.234638e+06</td>\n",
       "      <td>41.922682</td>\n",
       "      <td>-87.65432</td>\n",
       "    </tr>\n",
       "  </tbody>\n",
       "</table>\n",
       "<p>5 rows × 152 columns</p>\n",
       "</div>"
      ],
      "text/plain": [
       "   RegionID  RegionName      City State                             Metro  \\\n",
       "0     61639       10025  New York    NY       New York-Newark-Jersey City   \n",
       "1     84654       60657   Chicago    IL          Chicago-Naperville-Elgin   \n",
       "2     61637       10023  New York    NY       New York-Newark-Jersey City   \n",
       "3     91982       77494      Katy    TX  Houston-The Woodlands-Sugar Land   \n",
       "4     84616       60614   Chicago    IL          Chicago-Naperville-Elgin   \n",
       "\n",
       "        CountyName  SizeRank   2008-01   2008-02        2008-03  ...  \\\n",
       "0  New York County         1       NaN       NaN            NaN  ...   \n",
       "1      Cook County         2       NaN       NaN            NaN  ...   \n",
       "2  New York County         3       NaN       NaN            NaN  ...   \n",
       "3    Harris County         4  267042.0  266167.5  265567.333333  ...   \n",
       "4      Cook County         5       NaN       NaN            NaN  ...   \n",
       "\n",
       "     2019-04       2019-05       2019-06       2019-07       2019-08  \\\n",
       "0  2998417.0  3.008020e+06  3.018742e+06  3.001803e+06  2.983767e+06   \n",
       "1  1010288.0  1.012454e+06  1.010338e+06  1.008764e+06  1.006188e+06   \n",
       "2  6367316.0  6.409420e+06  6.425129e+06  6.446475e+06  6.487110e+06   \n",
       "3   331012.0  3.302250e+05  3.295703e+05  3.297790e+05  3.298797e+05   \n",
       "4  1253091.0  1.256735e+06  1.252838e+06  1.248100e+06  1.242790e+06   \n",
       "\n",
       "        2019-09       2019-10       2019-11        lat       lng  \n",
       "0  2.962636e+06  2.980488e+06  3.002555e+06  40.798502 -73.96811  \n",
       "1  1.006068e+06  1.005388e+06  1.005377e+06  41.940832 -87.65852  \n",
       "2  6.514059e+06  6.543494e+06  6.524043e+06  40.776099 -73.98285  \n",
       "3  3.309300e+05  3.314603e+05  3.318457e+05  29.760833 -95.81104  \n",
       "4  1.239398e+06  1.237450e+06  1.234638e+06  41.922682 -87.65432  \n",
       "\n",
       "[5 rows x 152 columns]"
      ]
     },
     "execution_count": 72,
     "metadata": {},
     "output_type": "execute_result"
    }
   ],
   "source": [
    "Zip_Zhvi_4bedroom.head()"
   ]
  },
  {
   "cell_type": "code",
   "execution_count": 78,
   "metadata": {},
   "outputs": [],
   "source": [
    "new_path = 'data/housing/bedroomziplatlng/'\n",
    "for i in names:\n",
    "    vars()[i].to_csv(new_path + i + '_zip'+ '.csv')"
   ]
  },
  {
   "cell_type": "code",
   "execution_count": 79,
   "metadata": {},
   "outputs": [
    {
     "data": {
      "text/plain": [
       "['Zip_Zhvi_1bedroom_zip.csv',\n",
       " 'Zip_Zhvi_2bedroom_zip.csv',\n",
       " 'Zip_Zhvi_3bedroom_zip.csv',\n",
       " 'Zip_Zhvi_4bedroom_zip.csv',\n",
       " 'Zip_Zhvi_5Bedroom_zip.csv']"
      ]
     },
     "execution_count": 79,
     "metadata": {},
     "output_type": "execute_result"
    }
   ],
   "source": [
    "os.listdir(new_path)"
   ]
  },
  {
   "cell_type": "code",
   "execution_count": 80,
   "metadata": {},
   "outputs": [],
   "source": [
    "checkdf = pd.read_csv(new_path + names[0] + '_zip' + '.csv')"
   ]
  },
  {
   "cell_type": "code",
   "execution_count": 81,
   "metadata": {},
   "outputs": [
    {
     "data": {
      "text/html": [
       "<div>\n",
       "<style scoped>\n",
       "    .dataframe tbody tr th:only-of-type {\n",
       "        vertical-align: middle;\n",
       "    }\n",
       "\n",
       "    .dataframe tbody tr th {\n",
       "        vertical-align: top;\n",
       "    }\n",
       "\n",
       "    .dataframe thead th {\n",
       "        text-align: right;\n",
       "    }\n",
       "</style>\n",
       "<table border=\"1\" class=\"dataframe\">\n",
       "  <thead>\n",
       "    <tr style=\"text-align: right;\">\n",
       "      <th></th>\n",
       "      <th>Unnamed: 0</th>\n",
       "      <th>RegionID</th>\n",
       "      <th>RegionName</th>\n",
       "      <th>City</th>\n",
       "      <th>State</th>\n",
       "      <th>Metro</th>\n",
       "      <th>CountyName</th>\n",
       "      <th>SizeRank</th>\n",
       "      <th>2008-01</th>\n",
       "      <th>2008-02</th>\n",
       "      <th>...</th>\n",
       "      <th>2019-04</th>\n",
       "      <th>2019-05</th>\n",
       "      <th>2019-06</th>\n",
       "      <th>2019-07</th>\n",
       "      <th>2019-08</th>\n",
       "      <th>2019-09</th>\n",
       "      <th>2019-10</th>\n",
       "      <th>2019-11</th>\n",
       "      <th>lat</th>\n",
       "      <th>lng</th>\n",
       "    </tr>\n",
       "  </thead>\n",
       "  <tbody>\n",
       "    <tr>\n",
       "      <th>0</th>\n",
       "      <td>0</td>\n",
       "      <td>61639</td>\n",
       "      <td>10025</td>\n",
       "      <td>New York</td>\n",
       "      <td>NY</td>\n",
       "      <td>New York-Newark-Jersey City</td>\n",
       "      <td>New York County</td>\n",
       "      <td>1</td>\n",
       "      <td>NaN</td>\n",
       "      <td>NaN</td>\n",
       "      <td>...</td>\n",
       "      <td>724675.000000</td>\n",
       "      <td>723230.333333</td>\n",
       "      <td>720543.000000</td>\n",
       "      <td>716854.333333</td>\n",
       "      <td>714189.000000</td>\n",
       "      <td>710429.666667</td>\n",
       "      <td>709241.333333</td>\n",
       "      <td>707854.666667</td>\n",
       "      <td>40.798502</td>\n",
       "      <td>-73.96811</td>\n",
       "    </tr>\n",
       "    <tr>\n",
       "      <th>1</th>\n",
       "      <td>1</td>\n",
       "      <td>84654</td>\n",
       "      <td>60657</td>\n",
       "      <td>Chicago</td>\n",
       "      <td>IL</td>\n",
       "      <td>Chicago-Naperville-Elgin</td>\n",
       "      <td>Cook County</td>\n",
       "      <td>2</td>\n",
       "      <td>NaN</td>\n",
       "      <td>NaN</td>\n",
       "      <td>...</td>\n",
       "      <td>217307.666667</td>\n",
       "      <td>217699.333333</td>\n",
       "      <td>217167.000000</td>\n",
       "      <td>216393.333333</td>\n",
       "      <td>214804.666667</td>\n",
       "      <td>213714.666667</td>\n",
       "      <td>212630.666667</td>\n",
       "      <td>212261.666667</td>\n",
       "      <td>41.940832</td>\n",
       "      <td>-87.65852</td>\n",
       "    </tr>\n",
       "    <tr>\n",
       "      <th>2</th>\n",
       "      <td>2</td>\n",
       "      <td>61637</td>\n",
       "      <td>10023</td>\n",
       "      <td>New York</td>\n",
       "      <td>NY</td>\n",
       "      <td>New York-Newark-Jersey City</td>\n",
       "      <td>New York County</td>\n",
       "      <td>3</td>\n",
       "      <td>NaN</td>\n",
       "      <td>NaN</td>\n",
       "      <td>...</td>\n",
       "      <td>826669.333333</td>\n",
       "      <td>825952.333333</td>\n",
       "      <td>822924.000000</td>\n",
       "      <td>821563.666667</td>\n",
       "      <td>818487.666667</td>\n",
       "      <td>811886.666667</td>\n",
       "      <td>806982.333333</td>\n",
       "      <td>803770.333333</td>\n",
       "      <td>40.776099</td>\n",
       "      <td>-73.98285</td>\n",
       "    </tr>\n",
       "    <tr>\n",
       "      <th>3</th>\n",
       "      <td>3</td>\n",
       "      <td>84616</td>\n",
       "      <td>60614</td>\n",
       "      <td>Chicago</td>\n",
       "      <td>IL</td>\n",
       "      <td>Chicago-Naperville-Elgin</td>\n",
       "      <td>Cook County</td>\n",
       "      <td>4</td>\n",
       "      <td>NaN</td>\n",
       "      <td>NaN</td>\n",
       "      <td>...</td>\n",
       "      <td>256729.666667</td>\n",
       "      <td>255682.333333</td>\n",
       "      <td>254573.333333</td>\n",
       "      <td>253914.666667</td>\n",
       "      <td>253288.000000</td>\n",
       "      <td>252864.666667</td>\n",
       "      <td>252103.666667</td>\n",
       "      <td>251404.666667</td>\n",
       "      <td>41.922682</td>\n",
       "      <td>-87.65432</td>\n",
       "    </tr>\n",
       "    <tr>\n",
       "      <th>4</th>\n",
       "      <td>4</td>\n",
       "      <td>91940</td>\n",
       "      <td>77449</td>\n",
       "      <td>Katy</td>\n",
       "      <td>TX</td>\n",
       "      <td>Houston-The Woodlands-Sugar Land</td>\n",
       "      <td>Harris County</td>\n",
       "      <td>5</td>\n",
       "      <td>120884.0</td>\n",
       "      <td>120536.5</td>\n",
       "      <td>...</td>\n",
       "      <td>147189.333333</td>\n",
       "      <td>147436.333333</td>\n",
       "      <td>147741.666667</td>\n",
       "      <td>147999.666667</td>\n",
       "      <td>148357.000000</td>\n",
       "      <td>148418.666667</td>\n",
       "      <td>148552.666667</td>\n",
       "      <td>148807.000000</td>\n",
       "      <td>29.825908</td>\n",
       "      <td>-95.73010</td>\n",
       "    </tr>\n",
       "  </tbody>\n",
       "</table>\n",
       "<p>5 rows × 153 columns</p>\n",
       "</div>"
      ],
      "text/plain": [
       "   Unnamed: 0  RegionID  RegionName      City State  \\\n",
       "0           0     61639       10025  New York    NY   \n",
       "1           1     84654       60657   Chicago    IL   \n",
       "2           2     61637       10023  New York    NY   \n",
       "3           3     84616       60614   Chicago    IL   \n",
       "4           4     91940       77449      Katy    TX   \n",
       "\n",
       "                              Metro       CountyName  SizeRank   2008-01  \\\n",
       "0       New York-Newark-Jersey City  New York County         1       NaN   \n",
       "1          Chicago-Naperville-Elgin      Cook County         2       NaN   \n",
       "2       New York-Newark-Jersey City  New York County         3       NaN   \n",
       "3          Chicago-Naperville-Elgin      Cook County         4       NaN   \n",
       "4  Houston-The Woodlands-Sugar Land    Harris County         5  120884.0   \n",
       "\n",
       "    2008-02  ...        2019-04        2019-05        2019-06        2019-07  \\\n",
       "0       NaN  ...  724675.000000  723230.333333  720543.000000  716854.333333   \n",
       "1       NaN  ...  217307.666667  217699.333333  217167.000000  216393.333333   \n",
       "2       NaN  ...  826669.333333  825952.333333  822924.000000  821563.666667   \n",
       "3       NaN  ...  256729.666667  255682.333333  254573.333333  253914.666667   \n",
       "4  120536.5  ...  147189.333333  147436.333333  147741.666667  147999.666667   \n",
       "\n",
       "         2019-08        2019-09        2019-10        2019-11        lat  \\\n",
       "0  714189.000000  710429.666667  709241.333333  707854.666667  40.798502   \n",
       "1  214804.666667  213714.666667  212630.666667  212261.666667  41.940832   \n",
       "2  818487.666667  811886.666667  806982.333333  803770.333333  40.776099   \n",
       "3  253288.000000  252864.666667  252103.666667  251404.666667  41.922682   \n",
       "4  148357.000000  148418.666667  148552.666667  148807.000000  29.825908   \n",
       "\n",
       "        lng  \n",
       "0 -73.96811  \n",
       "1 -87.65852  \n",
       "2 -73.98285  \n",
       "3 -87.65432  \n",
       "4 -95.73010  \n",
       "\n",
       "[5 rows x 153 columns]"
      ]
     },
     "execution_count": 81,
     "metadata": {},
     "output_type": "execute_result"
    }
   ],
   "source": [
    "checkdf.head()"
   ]
  },
  {
   "cell_type": "code",
   "execution_count": null,
   "metadata": {},
   "outputs": [],
   "source": []
  }
 ],
 "metadata": {
  "kernelspec": {
   "display_name": "Python 3",
   "language": "python",
   "name": "python3"
  },
  "language_info": {
   "codemirror_mode": {
    "name": "ipython",
    "version": 3
   },
   "file_extension": ".py",
   "mimetype": "text/x-python",
   "name": "python",
   "nbconvert_exporter": "python",
   "pygments_lexer": "ipython3",
   "version": "3.7.3"
  }
 },
 "nbformat": 4,
 "nbformat_minor": 2
}

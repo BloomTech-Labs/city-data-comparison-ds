{
 "cells": [
  {
   "cell_type": "code",
   "execution_count": 1,
   "metadata": {},
   "outputs": [],
   "source": [
    "import pandas as pd\n",
    "import os"
   ]
  },
  {
   "cell_type": "code",
   "execution_count": 9,
   "metadata": {},
   "outputs": [],
   "source": [
    "df = pd.read_csv('data/complete_min_data.csv')"
   ]
  },
  {
   "cell_type": "code",
   "execution_count": 10,
   "metadata": {},
   "outputs": [
    {
     "data": {
      "text/html": [
       "<div>\n",
       "<style scoped>\n",
       "    .dataframe tbody tr th:only-of-type {\n",
       "        vertical-align: middle;\n",
       "    }\n",
       "\n",
       "    .dataframe tbody tr th {\n",
       "        vertical-align: top;\n",
       "    }\n",
       "\n",
       "    .dataframe thead th {\n",
       "        text-align: right;\n",
       "    }\n",
       "</style>\n",
       "<table border=\"1\" class=\"dataframe\">\n",
       "  <thead>\n",
       "    <tr style=\"text-align: right;\">\n",
       "      <th></th>\n",
       "      <th>Unnamed: 0</th>\n",
       "      <th>GEO_ID</th>\n",
       "      <th>NAME</th>\n",
       "      <th>full_name</th>\n",
       "      <th>st</th>\n",
       "      <th>pop2018</th>\n",
       "      <th>lat</th>\n",
       "      <th>lng</th>\n",
       "      <th>state</th>\n",
       "      <th>Zhvi_1bedroom</th>\n",
       "      <th>Zhvi_2bedroom</th>\n",
       "      <th>Zhvi_3bedroom</th>\n",
       "      <th>Zhvi_4bedroom</th>\n",
       "      <th>Zhvi_5Bedroom</th>\n",
       "    </tr>\n",
       "  </thead>\n",
       "  <tbody>\n",
       "    <tr>\n",
       "      <th>0</th>\n",
       "      <td>0</td>\n",
       "      <td>1600000US0167056</td>\n",
       "      <td>Russellville city, Alabama</td>\n",
       "      <td>Russellville AL</td>\n",
       "      <td>AL</td>\n",
       "      <td>9711</td>\n",
       "      <td>34.5056</td>\n",
       "      <td>-87.7282</td>\n",
       "      <td>Alabama</td>\n",
       "      <td>False</td>\n",
       "      <td>True</td>\n",
       "      <td>True</td>\n",
       "      <td>True</td>\n",
       "      <td>True</td>\n",
       "    </tr>\n",
       "    <tr>\n",
       "      <th>1</th>\n",
       "      <td>1</td>\n",
       "      <td>1600000US0178984</td>\n",
       "      <td>Vina town, Alabama</td>\n",
       "      <td>Vina AL</td>\n",
       "      <td>AL</td>\n",
       "      <td>363</td>\n",
       "      <td>34.3757</td>\n",
       "      <td>-88.0602</td>\n",
       "      <td>Alabama</td>\n",
       "      <td>False</td>\n",
       "      <td>False</td>\n",
       "      <td>False</td>\n",
       "      <td>False</td>\n",
       "      <td>False</td>\n",
       "    </tr>\n",
       "    <tr>\n",
       "      <th>2</th>\n",
       "      <td>2</td>\n",
       "      <td>1600000US0162688</td>\n",
       "      <td>Providence town, Alabama</td>\n",
       "      <td>Providence AL</td>\n",
       "      <td>AL</td>\n",
       "      <td>179</td>\n",
       "      <td>32.3424</td>\n",
       "      <td>-87.7761</td>\n",
       "      <td>Alabama</td>\n",
       "      <td>False</td>\n",
       "      <td>False</td>\n",
       "      <td>False</td>\n",
       "      <td>False</td>\n",
       "      <td>False</td>\n",
       "    </tr>\n",
       "    <tr>\n",
       "      <th>3</th>\n",
       "      <td>3</td>\n",
       "      <td>1600000US0131096</td>\n",
       "      <td>Grant town, Alabama</td>\n",
       "      <td>Grant AL</td>\n",
       "      <td>AL</td>\n",
       "      <td>933</td>\n",
       "      <td>34.5189</td>\n",
       "      <td>-86.2492</td>\n",
       "      <td>Alabama</td>\n",
       "      <td>False</td>\n",
       "      <td>True</td>\n",
       "      <td>True</td>\n",
       "      <td>True</td>\n",
       "      <td>True</td>\n",
       "    </tr>\n",
       "    <tr>\n",
       "      <th>4</th>\n",
       "      <td>4</td>\n",
       "      <td>1600000US0119816</td>\n",
       "      <td>Daviston town, Alabama</td>\n",
       "      <td>Daviston AL</td>\n",
       "      <td>AL</td>\n",
       "      <td>186</td>\n",
       "      <td>33.0557</td>\n",
       "      <td>-85.6371</td>\n",
       "      <td>Alabama</td>\n",
       "      <td>False</td>\n",
       "      <td>False</td>\n",
       "      <td>False</td>\n",
       "      <td>False</td>\n",
       "      <td>False</td>\n",
       "    </tr>\n",
       "  </tbody>\n",
       "</table>\n",
       "</div>"
      ],
      "text/plain": [
       "   Unnamed: 0            GEO_ID                        NAME        full_name  \\\n",
       "0           0  1600000US0167056  Russellville city, Alabama  Russellville AL   \n",
       "1           1  1600000US0178984          Vina town, Alabama          Vina AL   \n",
       "2           2  1600000US0162688    Providence town, Alabama    Providence AL   \n",
       "3           3  1600000US0131096         Grant town, Alabama         Grant AL   \n",
       "4           4  1600000US0119816      Daviston town, Alabama      Daviston AL   \n",
       "\n",
       "   st  pop2018      lat      lng    state  Zhvi_1bedroom  Zhvi_2bedroom  \\\n",
       "0  AL     9711  34.5056 -87.7282  Alabama          False           True   \n",
       "1  AL      363  34.3757 -88.0602  Alabama          False          False   \n",
       "2  AL      179  32.3424 -87.7761  Alabama          False          False   \n",
       "3  AL      933  34.5189 -86.2492  Alabama          False           True   \n",
       "4  AL      186  33.0557 -85.6371  Alabama          False          False   \n",
       "\n",
       "   Zhvi_3bedroom  Zhvi_4bedroom  Zhvi_5Bedroom  \n",
       "0           True           True           True  \n",
       "1          False          False          False  \n",
       "2          False          False          False  \n",
       "3           True           True           True  \n",
       "4          False          False          False  "
      ]
     },
     "execution_count": 10,
     "metadata": {},
     "output_type": "execute_result"
    }
   ],
   "source": [
    "df.head()"
   ]
  },
  {
   "cell_type": "code",
   "execution_count": 12,
   "metadata": {},
   "outputs": [],
   "source": [
    "wy = df[(df.st == 'WY')]"
   ]
  },
  {
   "cell_type": "code",
   "execution_count": 14,
   "metadata": {},
   "outputs": [
    {
     "data": {
      "text/plain": [
       "Zhvi_3bedroom\n",
       "False     94\n",
       "True     106\n",
       "Name: Zhvi_3bedroom, dtype: int64"
      ]
     },
     "execution_count": 14,
     "metadata": {},
     "output_type": "execute_result"
    }
   ],
   "source": [
    "wy.groupby('Zhvi_3bedroom')['Zhvi_3bedroom'].count()"
   ]
  },
  {
   "cell_type": "code",
   "execution_count": 15,
   "metadata": {},
   "outputs": [],
   "source": [
    "wy_zip = pd.read_csv('data/housing/bedroomziplatlng/Zip_Zhvi_3bedroom_zip.csv')"
   ]
  },
  {
   "cell_type": "code",
   "execution_count": 17,
   "metadata": {},
   "outputs": [
    {
     "data": {
      "text/html": [
       "<div>\n",
       "<style scoped>\n",
       "    .dataframe tbody tr th:only-of-type {\n",
       "        vertical-align: middle;\n",
       "    }\n",
       "\n",
       "    .dataframe tbody tr th {\n",
       "        vertical-align: top;\n",
       "    }\n",
       "\n",
       "    .dataframe thead th {\n",
       "        text-align: right;\n",
       "    }\n",
       "</style>\n",
       "<table border=\"1\" class=\"dataframe\">\n",
       "  <thead>\n",
       "    <tr style=\"text-align: right;\">\n",
       "      <th></th>\n",
       "      <th>Unnamed: 0</th>\n",
       "      <th>RegionID</th>\n",
       "      <th>RegionName</th>\n",
       "      <th>City</th>\n",
       "      <th>State</th>\n",
       "      <th>Metro</th>\n",
       "      <th>CountyName</th>\n",
       "      <th>SizeRank</th>\n",
       "      <th>2008-01</th>\n",
       "      <th>2008-02</th>\n",
       "      <th>...</th>\n",
       "      <th>2019-04</th>\n",
       "      <th>2019-05</th>\n",
       "      <th>2019-06</th>\n",
       "      <th>2019-07</th>\n",
       "      <th>2019-08</th>\n",
       "      <th>2019-09</th>\n",
       "      <th>2019-10</th>\n",
       "      <th>2019-11</th>\n",
       "      <th>lat</th>\n",
       "      <th>lng</th>\n",
       "    </tr>\n",
       "  </thead>\n",
       "  <tbody>\n",
       "    <tr>\n",
       "      <th>0</th>\n",
       "      <td>0</td>\n",
       "      <td>61639</td>\n",
       "      <td>10025</td>\n",
       "      <td>New York</td>\n",
       "      <td>NY</td>\n",
       "      <td>New York-Newark-Jersey City</td>\n",
       "      <td>New York County</td>\n",
       "      <td>1</td>\n",
       "      <td>NaN</td>\n",
       "      <td>NaN</td>\n",
       "      <td>...</td>\n",
       "      <td>2.042780e+06</td>\n",
       "      <td>2.035366e+06</td>\n",
       "      <td>2.034423e+06</td>\n",
       "      <td>2.025748e+06</td>\n",
       "      <td>2.005972e+06</td>\n",
       "      <td>1.973243e+06</td>\n",
       "      <td>1.958949e+06</td>\n",
       "      <td>1.948357e+06</td>\n",
       "      <td>40.798502</td>\n",
       "      <td>-73.96811</td>\n",
       "    </tr>\n",
       "    <tr>\n",
       "      <th>1</th>\n",
       "      <td>1</td>\n",
       "      <td>84654</td>\n",
       "      <td>60657</td>\n",
       "      <td>Chicago</td>\n",
       "      <td>IL</td>\n",
       "      <td>Chicago-Naperville-Elgin</td>\n",
       "      <td>Cook County</td>\n",
       "      <td>2</td>\n",
       "      <td>NaN</td>\n",
       "      <td>NaN</td>\n",
       "      <td>...</td>\n",
       "      <td>5.917907e+05</td>\n",
       "      <td>5.927763e+05</td>\n",
       "      <td>5.910983e+05</td>\n",
       "      <td>5.901127e+05</td>\n",
       "      <td>5.871780e+05</td>\n",
       "      <td>5.847233e+05</td>\n",
       "      <td>5.823167e+05</td>\n",
       "      <td>5.815510e+05</td>\n",
       "      <td>41.940832</td>\n",
       "      <td>-87.65852</td>\n",
       "    </tr>\n",
       "    <tr>\n",
       "      <th>2</th>\n",
       "      <td>2</td>\n",
       "      <td>61637</td>\n",
       "      <td>10023</td>\n",
       "      <td>New York</td>\n",
       "      <td>NY</td>\n",
       "      <td>New York-Newark-Jersey City</td>\n",
       "      <td>New York County</td>\n",
       "      <td>3</td>\n",
       "      <td>NaN</td>\n",
       "      <td>NaN</td>\n",
       "      <td>...</td>\n",
       "      <td>3.422120e+06</td>\n",
       "      <td>3.384821e+06</td>\n",
       "      <td>3.368683e+06</td>\n",
       "      <td>3.347543e+06</td>\n",
       "      <td>3.338804e+06</td>\n",
       "      <td>3.334868e+06</td>\n",
       "      <td>3.346086e+06</td>\n",
       "      <td>3.355841e+06</td>\n",
       "      <td>40.776099</td>\n",
       "      <td>-73.98285</td>\n",
       "    </tr>\n",
       "    <tr>\n",
       "      <th>3</th>\n",
       "      <td>3</td>\n",
       "      <td>91982</td>\n",
       "      <td>77494</td>\n",
       "      <td>Katy</td>\n",
       "      <td>TX</td>\n",
       "      <td>Houston-The Woodlands-Sugar Land</td>\n",
       "      <td>Harris County</td>\n",
       "      <td>4</td>\n",
       "      <td>197135.0</td>\n",
       "      <td>196620.0</td>\n",
       "      <td>...</td>\n",
       "      <td>2.540797e+05</td>\n",
       "      <td>2.533590e+05</td>\n",
       "      <td>2.528003e+05</td>\n",
       "      <td>2.530083e+05</td>\n",
       "      <td>2.531913e+05</td>\n",
       "      <td>2.541217e+05</td>\n",
       "      <td>2.546267e+05</td>\n",
       "      <td>2.555150e+05</td>\n",
       "      <td>29.760833</td>\n",
       "      <td>-95.81104</td>\n",
       "    </tr>\n",
       "    <tr>\n",
       "      <th>4</th>\n",
       "      <td>4</td>\n",
       "      <td>84616</td>\n",
       "      <td>60614</td>\n",
       "      <td>Chicago</td>\n",
       "      <td>IL</td>\n",
       "      <td>Chicago-Naperville-Elgin</td>\n",
       "      <td>Cook County</td>\n",
       "      <td>5</td>\n",
       "      <td>NaN</td>\n",
       "      <td>NaN</td>\n",
       "      <td>...</td>\n",
       "      <td>6.981180e+05</td>\n",
       "      <td>6.997963e+05</td>\n",
       "      <td>6.988157e+05</td>\n",
       "      <td>6.963590e+05</td>\n",
       "      <td>6.934267e+05</td>\n",
       "      <td>6.905770e+05</td>\n",
       "      <td>6.891443e+05</td>\n",
       "      <td>6.878177e+05</td>\n",
       "      <td>41.922682</td>\n",
       "      <td>-87.65432</td>\n",
       "    </tr>\n",
       "  </tbody>\n",
       "</table>\n",
       "<p>5 rows × 153 columns</p>\n",
       "</div>"
      ],
      "text/plain": [
       "   Unnamed: 0  RegionID  RegionName      City State  \\\n",
       "0           0     61639       10025  New York    NY   \n",
       "1           1     84654       60657   Chicago    IL   \n",
       "2           2     61637       10023  New York    NY   \n",
       "3           3     91982       77494      Katy    TX   \n",
       "4           4     84616       60614   Chicago    IL   \n",
       "\n",
       "                              Metro       CountyName  SizeRank   2008-01  \\\n",
       "0       New York-Newark-Jersey City  New York County         1       NaN   \n",
       "1          Chicago-Naperville-Elgin      Cook County         2       NaN   \n",
       "2       New York-Newark-Jersey City  New York County         3       NaN   \n",
       "3  Houston-The Woodlands-Sugar Land    Harris County         4  197135.0   \n",
       "4          Chicago-Naperville-Elgin      Cook County         5       NaN   \n",
       "\n",
       "    2008-02  ...       2019-04       2019-05       2019-06       2019-07  \\\n",
       "0       NaN  ...  2.042780e+06  2.035366e+06  2.034423e+06  2.025748e+06   \n",
       "1       NaN  ...  5.917907e+05  5.927763e+05  5.910983e+05  5.901127e+05   \n",
       "2       NaN  ...  3.422120e+06  3.384821e+06  3.368683e+06  3.347543e+06   \n",
       "3  196620.0  ...  2.540797e+05  2.533590e+05  2.528003e+05  2.530083e+05   \n",
       "4       NaN  ...  6.981180e+05  6.997963e+05  6.988157e+05  6.963590e+05   \n",
       "\n",
       "        2019-08       2019-09       2019-10       2019-11        lat       lng  \n",
       "0  2.005972e+06  1.973243e+06  1.958949e+06  1.948357e+06  40.798502 -73.96811  \n",
       "1  5.871780e+05  5.847233e+05  5.823167e+05  5.815510e+05  41.940832 -87.65852  \n",
       "2  3.338804e+06  3.334868e+06  3.346086e+06  3.355841e+06  40.776099 -73.98285  \n",
       "3  2.531913e+05  2.541217e+05  2.546267e+05  2.555150e+05  29.760833 -95.81104  \n",
       "4  6.934267e+05  6.905770e+05  6.891443e+05  6.878177e+05  41.922682 -87.65432  \n",
       "\n",
       "[5 rows x 153 columns]"
      ]
     },
     "execution_count": 17,
     "metadata": {},
     "output_type": "execute_result"
    }
   ],
   "source": [
    "wy_zip.head()"
   ]
  },
  {
   "cell_type": "code",
   "execution_count": 18,
   "metadata": {},
   "outputs": [],
   "source": [
    "wy_zip = wy_zip[wy_zip.State == 'WY']"
   ]
  },
  {
   "cell_type": "code",
   "execution_count": 20,
   "metadata": {},
   "outputs": [
    {
     "data": {
      "text/plain": [
       "(124, 153)"
      ]
     },
     "execution_count": 20,
     "metadata": {},
     "output_type": "execute_result"
    }
   ],
   "source": [
    "wy_zip.shape"
   ]
  },
  {
   "cell_type": "code",
   "execution_count": 21,
   "metadata": {},
   "outputs": [],
   "source": [
    "wy = wy[wy.Zhvi_3bedroom == False]"
   ]
  },
  {
   "cell_type": "code",
   "execution_count": 59,
   "metadata": {},
   "outputs": [
    {
     "data": {
      "text/plain": [
       "287674.666666667"
      ]
     },
     "execution_count": 59,
     "metadata": {},
     "output_type": "execute_result"
    }
   ],
   "source": [
    "wy_zip.iloc[2]['2019-11']"
   ]
  },
  {
   "cell_type": "code",
   "execution_count": 23,
   "metadata": {},
   "outputs": [],
   "source": [
    "from math import cos, asin, sqrt\n",
    "\n",
    "def distance(lat1, lon1, lat2, lon2):\n",
    "    p = 0.017453292519943295\n",
    "    a = 0.5 - cos((lat2-lat1)*p)/2 + cos(lat1*p)*cos(lat2*p) * (1-cos((lon2-lon1)*p)) / 2\n",
    "    return 12742 * asin(sqrt(a))"
   ]
  },
  {
   "cell_type": "code",
   "execution_count": 24,
   "metadata": {},
   "outputs": [],
   "source": [
    "lat = wy_zip.lat.values\n",
    "lng = wy_zip.lng.values"
   ]
  },
  {
   "cell_type": "code",
   "execution_count": 27,
   "metadata": {},
   "outputs": [],
   "source": [
    "clat = wy.lat.values\n",
    "clng = wy.lng.values"
   ]
  },
  {
   "cell_type": "code",
   "execution_count": 26,
   "metadata": {},
   "outputs": [],
   "source": [
    "import numpy as np\n",
    "\n",
    "#index_min = np.argmin(values)"
   ]
  },
  {
   "cell_type": "code",
   "execution_count": 66,
   "metadata": {},
   "outputs": [],
   "source": [
    "mapper = []\n",
    "for i in range(len(clat)):\n",
    "    inlat = clat[i]\n",
    "    inlng = clng [i]\n",
    "    mem = []\n",
    "    for a in range(len(lat)):\n",
    "        res = distance(lat[a], lng[a], inlat, inlng)\n",
    "        mem.append(res)\n",
    "    dist = min(mem)\n",
    "    index_min = np.argmin(mem)\n",
    "    city = wy_zip.iloc[index_min]['City']\n",
    "    price = wy_zip.iloc[index_min]['2019-11']\n",
    "    mapper.append([inlat, inlng, lat[index_min], lng[index_min], index_min, city, str(price), dist])\n",
    "    \n",
    "    "
   ]
  },
  {
   "cell_type": "code",
   "execution_count": 68,
   "metadata": {},
   "outputs": [],
   "source": [
    "distdf = pd.DataFrame(mapper, columns=['clat', 'clng', 'zlat', 'zlng', 'zindex','city','price', 'distance'])"
   ]
  },
  {
   "cell_type": "code",
   "execution_count": 64,
   "metadata": {},
   "outputs": [
    {
     "data": {
      "text/html": [
       "<div>\n",
       "<style scoped>\n",
       "    .dataframe tbody tr th:only-of-type {\n",
       "        vertical-align: middle;\n",
       "    }\n",
       "\n",
       "    .dataframe tbody tr th {\n",
       "        vertical-align: top;\n",
       "    }\n",
       "\n",
       "    .dataframe thead th {\n",
       "        text-align: right;\n",
       "    }\n",
       "</style>\n",
       "<table border=\"1\" class=\"dataframe\">\n",
       "  <thead>\n",
       "    <tr style=\"text-align: right;\">\n",
       "      <th></th>\n",
       "      <th>clat</th>\n",
       "      <th>clng</th>\n",
       "      <th>zlat</th>\n",
       "      <th>zlng</th>\n",
       "      <th>zindex</th>\n",
       "      <th>city</th>\n",
       "      <th>price</th>\n",
       "      <th>distance</th>\n",
       "    </tr>\n",
       "  </thead>\n",
       "  <tbody>\n",
       "    <tr>\n",
       "      <th>0</th>\n",
       "      <td>41.7761</td>\n",
       "      <td>-110.5555</td>\n",
       "      <td>41.399751</td>\n",
       "      <td>-110.36624</td>\n",
       "      <td>33</td>\n",
       "      <td>Lyman</td>\n",
       "      <td>206804.0</td>\n",
       "      <td>44.710326</td>\n",
       "    </tr>\n",
       "    <tr>\n",
       "      <th>1</th>\n",
       "      <td>41.0346</td>\n",
       "      <td>-107.5357</td>\n",
       "      <td>41.475612</td>\n",
       "      <td>-106.75888</td>\n",
       "      <td>34</td>\n",
       "      <td>Saratoga</td>\n",
       "      <td>200693.0</td>\n",
       "      <td>81.372965</td>\n",
       "    </tr>\n",
       "    <tr>\n",
       "      <th>2</th>\n",
       "      <td>41.0345</td>\n",
       "      <td>-107.6574</td>\n",
       "      <td>41.475612</td>\n",
       "      <td>-106.75888</td>\n",
       "      <td>34</td>\n",
       "      <td>Saratoga</td>\n",
       "      <td>200693.0</td>\n",
       "      <td>89.707235</td>\n",
       "    </tr>\n",
       "    <tr>\n",
       "      <th>3</th>\n",
       "      <td>42.7612</td>\n",
       "      <td>-104.4583</td>\n",
       "      <td>42.507335</td>\n",
       "      <td>-104.42420</td>\n",
       "      <td>114</td>\n",
       "      <td>Jay Em</td>\n",
       "      <td>496897.0</td>\n",
       "      <td>28.365997</td>\n",
       "    </tr>\n",
       "    <tr>\n",
       "      <th>4</th>\n",
       "      <td>42.7652</td>\n",
       "      <td>-104.9255</td>\n",
       "      <td>42.792664</td>\n",
       "      <td>-104.94156</td>\n",
       "      <td>122</td>\n",
       "      <td>Manville</td>\n",
       "      <td>377588.0</td>\n",
       "      <td>3.323262</td>\n",
       "    </tr>\n",
       "  </tbody>\n",
       "</table>\n",
       "</div>"
      ],
      "text/plain": [
       "      clat      clng       zlat       zlng  zindex      city     price  \\\n",
       "0  41.7761 -110.5555  41.399751 -110.36624      33     Lyman  206804.0   \n",
       "1  41.0346 -107.5357  41.475612 -106.75888      34  Saratoga  200693.0   \n",
       "2  41.0345 -107.6574  41.475612 -106.75888      34  Saratoga  200693.0   \n",
       "3  42.7612 -104.4583  42.507335 -104.42420     114    Jay Em  496897.0   \n",
       "4  42.7652 -104.9255  42.792664 -104.94156     122  Manville  377588.0   \n",
       "\n",
       "    distance  \n",
       "0  44.710326  \n",
       "1  81.372965  \n",
       "2  89.707235  \n",
       "3  28.365997  \n",
       "4   3.323262  "
      ]
     },
     "execution_count": 64,
     "metadata": {},
     "output_type": "execute_result"
    }
   ],
   "source": [
    "distdf.head()"
   ]
  },
  {
   "cell_type": "code",
   "execution_count": 39,
   "metadata": {},
   "outputs": [
    {
     "data": {
      "text/plain": [
       "(94, 6)"
      ]
     },
     "execution_count": 39,
     "metadata": {},
     "output_type": "execute_result"
    }
   ],
   "source": [
    "distdf.shape"
   ]
  },
  {
   "cell_type": "code",
   "execution_count": null,
   "metadata": {},
   "outputs": [],
   "source": [
    "import plotly.graph_objects as go\n",
    "\n",
    "fig = go.Figure(go.Scattermapbox(\n",
    "    mode = \"markers\",\n",
    "    text = distdf.city.values,\n",
    "    lon = distdf.clng.values,\n",
    "    lat = distdf.clat.values,\n",
    "    marker = {'size': 10}))\n",
    "\n",
    "\n",
    "fig.add_trace(go.Scattermapbox(\n",
    "    mode = \"markers\",\n",
    "\n",
    "    hovertext = distdf.price.values,\n",
    "    lon = distdf.zlng.values,\n",
    "    lat = distdf.zlat.values,\n",
    "    marker = {'size': 10}))\n",
    "\n",
    "fig.update_layout(\n",
    "    margin ={'l':0,'t':0,'b':0,'r':0},\n",
    "    mapbox = {\n",
    "        'center': {'lon': 10, 'lat': 10},\n",
    "        'style': \"stamen-terrain\",\n",
    "        'center': {'lon': -20, 'lat': -20},\n",
    "        'zoom': 1})\n",
    "\n",
    "fig.show()"
   ]
  },
  {
   "cell_type": "markdown",
   "metadata": {},
   "source": [
    "<img src=\"https://raw.githubusercontent.com/Lambda-School-Labs/city-data-comparison-ds/master/images/wy_zip_lat_long_mapping.png\">"
   ]
  },
  {
   "cell_type": "code",
   "execution_count": 86,
   "metadata": {},
   "outputs": [],
   "source": [
    "threebed = pd.read_csv('data/housing/bedroomziplatlng/Zip_Zhvi_3bedroom_zip.csv')\n",
    "onebed = pd.read_csv('data/housing/bedroomziplatlng/Zip_Zhvi_1bedroom_zip.csv')"
   ]
  },
  {
   "cell_type": "code",
   "execution_count": 87,
   "metadata": {},
   "outputs": [
    {
     "data": {
      "text/plain": [
       "(24076, 153)"
      ]
     },
     "execution_count": 87,
     "metadata": {},
     "output_type": "execute_result"
    }
   ],
   "source": [
    "threebed.shape"
   ]
  },
  {
   "cell_type": "code",
   "execution_count": 88,
   "metadata": {},
   "outputs": [
    {
     "data": {
      "text/plain": [
       "(13607, 153)"
      ]
     },
     "execution_count": 88,
     "metadata": {},
     "output_type": "execute_result"
    }
   ],
   "source": [
    "onebed.shape"
   ]
  },
  {
   "cell_type": "code",
   "execution_count": null,
   "metadata": {},
   "outputs": [],
   "source": []
  }
 ],
 "metadata": {
  "kernelspec": {
   "display_name": "Python 3",
   "language": "python",
   "name": "python3"
  },
  "language_info": {
   "codemirror_mode": {
    "name": "ipython",
    "version": 3
   },
   "file_extension": ".py",
   "mimetype": "text/x-python",
   "name": "python",
   "nbconvert_exporter": "python",
   "pygments_lexer": "ipython3",
   "version": "3.7.3"
  }
 },
 "nbformat": 4,
 "nbformat_minor": 2
}

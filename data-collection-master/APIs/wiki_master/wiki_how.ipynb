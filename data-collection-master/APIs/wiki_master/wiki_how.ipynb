{
 "cells": [
  {
   "cell_type": "code",
   "execution_count": 1,
   "metadata": {},
   "outputs": [
    {
     "name": "stdout",
     "output_type": "stream",
     "text": [
      "['Chicago', 'Chicago (franchise)', 'Chicago Lawn, Chicago', 'Chicago (band)', 'Chicago Med', 'Chicago Bulls', 'Chicago Fire', 'South Chicago, Chicago', 'Chicago Tribune', 'Chicago (musical)']\n"
     ]
    }
   ],
   "source": [
    "import wikipedia as wiki\n",
    "\n",
    "print(wiki.search(\"chicago\"))"
   ]
  },
  {
   "cell_type": "code",
   "execution_count": 2,
   "metadata": {},
   "outputs": [
    {
     "name": "stdout",
     "output_type": "stream",
     "text": [
      "Help on package wikipedia:\n",
      "\n",
      "NAME\n",
      "    wikipedia\n",
      "\n",
      "PACKAGE CONTENTS\n",
      "    exceptions\n",
      "    util\n",
      "    wikipedia\n",
      "\n",
      "DATA\n",
      "    API_URL = 'http://en.wikipedia.org/w/api.php'\n",
      "    ODD_ERROR_MESSAGE = \"This shouldn't happen. Please report on GitHub: g...\n",
      "    RATE_LIMIT = False\n",
      "    RATE_LIMIT_LAST_CALL = None\n",
      "    RATE_LIMIT_MIN_WAIT = None\n",
      "    USER_AGENT = 'wikipedia (https://github.com/goldsmith/Wikipedia/)'\n",
      "    geosearch = <wikipedia.util.cache object>\n",
      "    languages = <wikipedia.util.cache object>\n",
      "    search = <wikipedia.util.cache object>\n",
      "    suggest = <wikipedia.util.cache object>\n",
      "    summary = <wikipedia.util.cache object>\n",
      "    unicode_literals = _Feature((2, 6, 0, 'alpha', 2), (3, 0, 0, 'alpha', ...\n",
      "\n",
      "VERSION\n",
      "    (1, 4, 0)\n",
      "\n",
      "FILE\n",
      "    c:\\users\\zebfr\\miniconda3\\lib\\site-packages\\wikipedia\\__init__.py\n",
      "\n",
      "\n"
     ]
    }
   ],
   "source": [
    "help(wiki)"
   ]
  },
  {
   "cell_type": "code",
   "execution_count": 2,
   "metadata": {},
   "outputs": [
    {
     "name": "stdout",
     "output_type": "stream",
     "text": [
      "Chicago ( (listen), locally also ), officially the City of Chicago, is the most populous city in the U.S. state of Illinois, and the third-most-populous city in the United States. With an estimated population of 2,705,994 (2018), it is also the most populous city in the Midwestern United States. Chicago is the county seat of Cook County, the second-most-populous county in the US, with a small portion of the northwest side of the city extending into DuPage County near O'Hare Airport. Chicago is the principal city of the Chicago metropolitan area, often referred to as Chicagoland. At nearly 10 million people, the metropolitan area is the third most populous in the United States.\n",
      "Located on the shores of freshwater Lake Michigan, Chicago was incorporated as a city in 1837 near a portage between the Great Lakes and the Mississippi River watershed and grew rapidly in the mid-19th century. After the Great Chicago Fire of 1871, which destroyed several square miles and left more than 100,000 homeless, the city made a concerted effort to rebuild. The construction boom accelerated population growth throughout the following decades, and by 1900, less than 30 years after the great fire, Chicago was the fifth-largest city in the world. Chicago made noted contributions to urban planning and zoning standards, including new construction styles (including the Chicago School of architecture), the development of the City Beautiful Movement, and the steel-framed skyscraper.Chicago is an international hub for finance, culture, commerce, industry, education, technology, telecommunications, and transportation. It is the site of the creation of the first standardized futures contracts, issued by the Chicago Board of Trade, which today is the largest and most diverse derivatives market in the world, generating 20% of all volume in commodities and financial futures alone. Depending on the particular year, the city's O'Hare International Airport is routinely ranked as the world's fifth or sixth busiest airport according to tracked data by the Airports Council International. The region also has the largest number of federal highways and is the nation's railroad hub. Chicago was listed as an alpha global city by the Globalization and World Cities Research Network, and it ranked seventh in the entire world in the 2017 Global Cities Index. The Chicago area has one of the highest gross domestic products (GDP) in the world, generating $689 billion in 2018. In addition, the city has one of the world's most diversified and balanced economies, with no single industry employing more than 14% of the workforce. Chicago is home to several Fortune 500 companies, including Allstate, Boeing, Exelon, Kraft Heinz, McDonald's, Mondelez International, Sears, United Airlines Holdings, and Walgreens.\n",
      "Chicago's 58 million domestic and international visitors in 2018 made it the second most visited city in the nation, as compared with New York City's 65 million visitors in 2018. The city was ranked first in the 2018 Time Out City Life Index, a global quality of life survey of 15,000 people in 32 cities. Landmarks in the city include Millennium Park, Navy Pier, the Magnificent Mile, the Art Institute of Chicago, Museum Campus, the Willis (Sears) Tower, Grant Park, the Museum of Science and Industry, and Lincoln Park Zoo. Chicago's culture includes the visual arts, literature, film, theatre, comedy (especially improvisational comedy), food, and music, particularly jazz, blues, soul, hip-hop, gospel, and electronic dance music including house music. Of the area's many colleges and universities, the University of Chicago, Northwestern University, and the University of Illinois at Chicago are classified as \"highest research\" doctoral universities.  Chicago has professional sports teams in each of the major professional leagues, including two Major League Baseball teams.\n"
     ]
    }
   ],
   "source": [
    "print(wikipedia.summary(\"chicago\"))"
   ]
  },
  {
   "cell_type": "code",
   "execution_count": 6,
   "metadata": {},
   "outputs": [
    {
     "name": "stdout",
     "output_type": "stream",
     "text": [
      "https://upload.wikimedia.org/wikipedia/commons/6/69/2004-08-08_1580x2800_chicago_republic.jpg\n"
     ]
    }
   ],
   "source": [
    "print(wikipedia.page(\"chicago\").images[1])"
   ]
  },
  {
   "cell_type": "code",
   "execution_count": 7,
   "metadata": {},
   "outputs": [
    {
     "name": "stdout",
     "output_type": "stream",
     "text": [
      "https://upload.wikimedia.org/wikipedia/en/b/b9/MagrittePipe.jpg\n"
     ]
    }
   ],
   "source": [
    "print(wikipedia.page(\"chicago images\").images[1])"
   ]
  },
  {
   "cell_type": "code",
   "execution_count": 5,
   "metadata": {},
   "outputs": [
    {
     "name": "stdout",
     "output_type": "stream",
     "text": [
      "<class 'str'>\n"
     ]
    }
   ],
   "source": [
    "print(type(wiki.page(\"chicago\").content))"
   ]
  },
  {
   "cell_type": "code",
   "execution_count": 1,
   "metadata": {},
   "outputs": [],
   "source": [
    "import wikipedia as wiki"
   ]
  },
  {
   "cell_type": "code",
   "execution_count": 5,
   "metadata": {},
   "outputs": [
    {
     "name": "stdout",
     "output_type": "stream",
     "text": [
      "https://upload.wikimedia.org/wikipedia/commons/0/00/130William.jpg\n"
     ]
    }
   ],
   "source": [
    "print(wiki.page(\"New York skyline\").images[1])\n"
   ]
  }
 ],
 "metadata": {
  "kernelspec": {
   "display_name": "Python 3",
   "language": "python",
   "name": "python3"
  },
  "language_info": {
   "codemirror_mode": {
    "name": "ipython",
    "version": 3
   },
   "file_extension": ".py",
   "mimetype": "text/x-python",
   "name": "python",
   "nbconvert_exporter": "python",
   "pygments_lexer": "ipython3",
   "version": "3.7.4"
  }
 },
 "nbformat": 4,
 "nbformat_minor": 4
}
